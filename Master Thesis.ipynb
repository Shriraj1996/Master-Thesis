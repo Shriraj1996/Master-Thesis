{
 "cells": [
  {
   "cell_type": "markdown",
   "id": "0f3d6bd4",
   "metadata": {},
   "source": [
    "#                                            Master Thesis"
   ]
  },
  {
   "cell_type": "markdown",
   "id": "5cae3f18",
   "metadata": {},
   "source": [
    "## Agricultural Production Optimization System using Machine Learning"
   ]
  },
  {
   "cell_type": "markdown",
   "id": "8a7cea28",
   "metadata": {},
   "source": [
    "###### Motivation: The motivation for a crop yield prediction project using machine learning algorithms is to improve the efficiency and productivity of agriculture, while also reducing costs and promoting sustainability. Accurate crop yield predictions can help farmers plan better, optimize resource use, and make better decisions about crop management practices. This can lead to higher profits for farmers, reduced waste, and a smaller environmental footprint. Ultimately, the goal of such a project is to improve outcomes for farmers, consumers, and the environment."
   ]
  },
  {
   "cell_type": "markdown",
   "id": "2f136938",
   "metadata": {},
   "source": [
    "###### Aim: The goal of this research is to establish an agricultural business production optimization system using machine learning techniques to predict crop yields and optimize resource utilization. The objective of this project is scalable, accurate, and inexpensive method to predict crop yield with high spatial resolution using available climatic data and Machine Learning. "
   ]
  },
  {
   "cell_type": "markdown",
   "id": "74feb6ef",
   "metadata": {},
   "source": [
    "###### Objectives: 1] To acquire and process pertinent agricultural information from multiple sources., including weather data, soil data, and crop yield data. 2] To develop a machine learning model using decision tree regressor and XGBoost regressor algorithms to predict crop yields depending on soil and climate circumstances. 3] To optimize the use of resources such as water, fertilizer, and pesticides by recommending the optimal amount and timing of application. 4] To test and validate the developed model using historical data and compare its performance with traditional methods of Produce from agriculture. 5] To evaluate the economic and environmental benefits of the proposed system by analyzing its impact on crop yields, resource utilization, and carbon footprint. 6] To design a user interface that is simple to use for the proposed system that can be used by farmers, agronomists, and other stakeholders involved in agricultural production. 7] To provide recommendations and guidelines for the implementation and adoption of the proposed system in different regions and farming practices. 8] To conduct a thorough literature review on artificial intelligence uses for agricultural output maximization."
   ]
  },
  {
   "cell_type": "markdown",
   "id": "4f18074b",
   "metadata": {},
   "source": [
    "###### The objectives of this study aim to contribute to sustainable agriculture by optimizing agricultural production processes, minimizing the environmental impact of farming procedures and guaranteeing food security."
   ]
  },
  {
   "cell_type": "markdown",
   "id": "3bb9107a",
   "metadata": {},
   "source": [
    "### 1. Data Cleaning"
   ]
  },
  {
   "cell_type": "markdown",
   "id": "e9a6da85",
   "metadata": {},
   "source": [
    "###### The objective of data cleaning is to fix any data that is incorrect, inaccurate, incomplete, incorrectly formatted, duplicated, or even irrelevant to the objective of the data set."
   ]
  },
  {
   "cell_type": "markdown",
   "id": "822ca152",
   "metadata": {},
   "source": [
    "### 1.1 Import Libraries"
   ]
  },
  {
   "cell_type": "markdown",
   "id": "1808b9b6",
   "metadata": {},
   "source": [
    "###### In this project following libraries are used like pandas, copy, matplotlib, numpy, warnings etc. 1] Pandas: pandas is a powerful library that enables users to perform a wide range of data manipulation and analysis tasks efficiently and effectively. 2] Copy: copy library can be a useful tool when working with complex objects in Python, especially when you need to make copies of those objects without modifying the original objects. 3] Matplotlib: Matplotlib is a versatile and powerful library that is essential for data scientists and researchers who need to create informative and visually appealing plots in Python. 4] Numpy: NumPy is a fundamental library for scientific computing in Python, and its efficient handling of arrays and matrices makes it a go-to choice for numerical computing and data analysis in the scientific and engineering communities. 5] Warnings: warnings library is a useful tool for identifying and handling potential issues in code. By using the warnings library, programmers can ensure that their code is reliable, maintainable, and compatible with different versions of Python and third-party libraries."
   ]
  },
  {
   "cell_type": "code",
   "execution_count": 1,
   "id": "ffc027aa",
   "metadata": {},
   "outputs": [],
   "source": [
    "import pandas as pd\n",
    "import copy\n",
    "import matplotlib.pyplot as plt\n",
    "import numpy as np\n",
    "import warnings\n",
    "warnings.filterwarnings('ignore')"
   ]
  },
  {
   "cell_type": "markdown",
   "id": "57b3cf31",
   "metadata": {},
   "source": [
    "### 1.2 Import Data"
   ]
  },
  {
   "cell_type": "markdown",
   "id": "817580cd",
   "metadata": {},
   "source": [
    "###### The pd.read_csv() function is a method provided by the Pandas library in Python for reading data from a CSV (Comma Separated Values) file and creating a DataFrame object. This dataset information taken from USDA National Agricultural Statistics Service (NASS) data, National Weather Service (NOAA), Natural Resources Conservation Service (NRCS) etc. In this Dataset following information are there like State Name, District Name, Crop Year, Season, Crop, Area, Production. By using this information we can create ML Model for Crop Yield Prediction."
   ]
  },
  {
   "cell_type": "code",
   "execution_count": 2,
   "id": "76524ee0",
   "metadata": {},
   "outputs": [
    {
     "data": {
      "text/html": [
       "<div>\n",
       "<style scoped>\n",
       "    .dataframe tbody tr th:only-of-type {\n",
       "        vertical-align: middle;\n",
       "    }\n",
       "\n",
       "    .dataframe tbody tr th {\n",
       "        vertical-align: top;\n",
       "    }\n",
       "\n",
       "    .dataframe thead th {\n",
       "        text-align: right;\n",
       "    }\n",
       "</style>\n",
       "<table border=\"1\" class=\"dataframe\">\n",
       "  <thead>\n",
       "    <tr style=\"text-align: right;\">\n",
       "      <th></th>\n",
       "      <th>Unnamed: 0</th>\n",
       "      <th>State_Name</th>\n",
       "      <th>District_Name</th>\n",
       "      <th>Crop_Year</th>\n",
       "      <th>Season</th>\n",
       "      <th>Crop</th>\n",
       "      <th>Area</th>\n",
       "      <th>production</th>\n",
       "    </tr>\n",
       "  </thead>\n",
       "  <tbody>\n",
       "    <tr>\n",
       "      <th>0</th>\n",
       "      <td>46</td>\n",
       "      <td>Andaman and Nicobar Islands</td>\n",
       "      <td>NICOBARS</td>\n",
       "      <td>2005</td>\n",
       "      <td>Whole Year</td>\n",
       "      <td>Arecanut</td>\n",
       "      <td>795.67</td>\n",
       "      <td>749.095000</td>\n",
       "    </tr>\n",
       "    <tr>\n",
       "      <th>1</th>\n",
       "      <td>51</td>\n",
       "      <td>Andaman and Nicobar Islands</td>\n",
       "      <td>NICOBARS</td>\n",
       "      <td>2005</td>\n",
       "      <td>Whole Year</td>\n",
       "      <td>Dry chillies</td>\n",
       "      <td>17.00</td>\n",
       "      <td>11.054167</td>\n",
       "    </tr>\n",
       "    <tr>\n",
       "      <th>2</th>\n",
       "      <td>623</td>\n",
       "      <td>Andhra Pradesh</td>\n",
       "      <td>ANANTAPUR</td>\n",
       "      <td>2007</td>\n",
       "      <td>Kharif</td>\n",
       "      <td>Moong(Green Gram)</td>\n",
       "      <td>1000.00</td>\n",
       "      <td>937.600000</td>\n",
       "    </tr>\n",
       "    <tr>\n",
       "      <th>3</th>\n",
       "      <td>630</td>\n",
       "      <td>Andhra Pradesh</td>\n",
       "      <td>ANANTAPUR</td>\n",
       "      <td>2007</td>\n",
       "      <td>Rabi</td>\n",
       "      <td>Horse-gram</td>\n",
       "      <td>1000.00</td>\n",
       "      <td>830.800000</td>\n",
       "    </tr>\n",
       "    <tr>\n",
       "      <th>4</th>\n",
       "      <td>698</td>\n",
       "      <td>Andhra Pradesh</td>\n",
       "      <td>ANANTAPUR</td>\n",
       "      <td>2009</td>\n",
       "      <td>Rabi</td>\n",
       "      <td>Rapeseed &amp;Mustard</td>\n",
       "      <td>8.00</td>\n",
       "      <td>3.633333</td>\n",
       "    </tr>\n",
       "  </tbody>\n",
       "</table>\n",
       "</div>"
      ],
      "text/plain": [
       "   Unnamed: 0                   State_Name District_Name  Crop_Year  \\\n",
       "0          46  Andaman and Nicobar Islands      NICOBARS       2005   \n",
       "1          51  Andaman and Nicobar Islands      NICOBARS       2005   \n",
       "2         623               Andhra Pradesh     ANANTAPUR       2007   \n",
       "3         630               Andhra Pradesh     ANANTAPUR       2007   \n",
       "4         698               Andhra Pradesh     ANANTAPUR       2009   \n",
       "\n",
       "        Season               Crop     Area  production  \n",
       "0  Whole Year            Arecanut   795.67  749.095000  \n",
       "1  Whole Year        Dry chillies    17.00   11.054167  \n",
       "2  Kharif       Moong(Green Gram)  1000.00  937.600000  \n",
       "3  Rabi                Horse-gram  1000.00  830.800000  \n",
       "4  Rabi         Rapeseed &Mustard     8.00    3.633333  "
      ]
     },
     "execution_count": 2,
     "metadata": {},
     "output_type": "execute_result"
    }
   ],
   "source": [
    "df = pd.read_csv(r'D:\\Shriraj\\Master Thesis\\New Code\\New folder\\Crop Yeild-20230318T151143Z-001\\Crop Yeild\\cropyield.csv')\n",
    "df.head()"
   ]
  },
  {
   "cell_type": "markdown",
   "id": "e324c676",
   "metadata": {},
   "source": [
    "### 1.3 Check Null Values"
   ]
  },
  {
   "cell_type": "markdown",
   "id": "f4f6707a",
   "metadata": {},
   "source": [
    "###### The value_counts() function is used to get a Series containing counts of unique values. The resulting object will be in descending order so that the first element is the most frequently-occurring element."
   ]
  },
  {
   "cell_type": "code",
   "execution_count": 3,
   "id": "004bfe48",
   "metadata": {
    "scrolled": true
   },
   "outputs": [
    {
     "data": {
      "text/plain": [
       "AMBALA         96\n",
       "PANIPAT        90\n",
       "KAITHAL        85\n",
       "YAMUNANAGAR    81\n",
       "KURUKSHETRA    78\n",
       "               ..\n",
       "IMPHAL EAST     1\n",
       "AMROHA          1\n",
       "KHEDA           1\n",
       "ALIGARH         1\n",
       "BEMETARA        1\n",
       "Name: District_Name, Length: 408, dtype: int64"
      ]
     },
     "execution_count": 3,
     "metadata": {},
     "output_type": "execute_result"
    }
   ],
   "source": [
    "df.District_Name.value_counts()"
   ]
  },
  {
   "cell_type": "markdown",
   "id": "11669477",
   "metadata": {},
   "source": [
    "###### The iloc() function in python is defined in the Pandas module that helps us to select a specific row or column from the data set. Using the iloc method in python, we can easily retrieve any particular value from a row or column by using index values."
   ]
  },
  {
   "cell_type": "code",
   "execution_count": 4,
   "id": "60d377a9",
   "metadata": {},
   "outputs": [],
   "source": [
    "data=df.iloc[:,1:8]"
   ]
  },
  {
   "cell_type": "markdown",
   "id": "e277628a",
   "metadata": {},
   "source": [
    "###### The head() function is used to get the first n rows. This function returns the first n rows for the object based on position. It is useful for quickly testing if your object has the right type of data in it."
   ]
  },
  {
   "cell_type": "code",
   "execution_count": 5,
   "id": "3434c95d",
   "metadata": {},
   "outputs": [
    {
     "data": {
      "text/html": [
       "<div>\n",
       "<style scoped>\n",
       "    .dataframe tbody tr th:only-of-type {\n",
       "        vertical-align: middle;\n",
       "    }\n",
       "\n",
       "    .dataframe tbody tr th {\n",
       "        vertical-align: top;\n",
       "    }\n",
       "\n",
       "    .dataframe thead th {\n",
       "        text-align: right;\n",
       "    }\n",
       "</style>\n",
       "<table border=\"1\" class=\"dataframe\">\n",
       "  <thead>\n",
       "    <tr style=\"text-align: right;\">\n",
       "      <th></th>\n",
       "      <th>State_Name</th>\n",
       "      <th>District_Name</th>\n",
       "      <th>Crop_Year</th>\n",
       "      <th>Season</th>\n",
       "      <th>Crop</th>\n",
       "      <th>Area</th>\n",
       "      <th>production</th>\n",
       "    </tr>\n",
       "  </thead>\n",
       "  <tbody>\n",
       "    <tr>\n",
       "      <th>0</th>\n",
       "      <td>Andaman and Nicobar Islands</td>\n",
       "      <td>NICOBARS</td>\n",
       "      <td>2005</td>\n",
       "      <td>Whole Year</td>\n",
       "      <td>Arecanut</td>\n",
       "      <td>795.67</td>\n",
       "      <td>749.095000</td>\n",
       "    </tr>\n",
       "    <tr>\n",
       "      <th>1</th>\n",
       "      <td>Andaman and Nicobar Islands</td>\n",
       "      <td>NICOBARS</td>\n",
       "      <td>2005</td>\n",
       "      <td>Whole Year</td>\n",
       "      <td>Dry chillies</td>\n",
       "      <td>17.00</td>\n",
       "      <td>11.054167</td>\n",
       "    </tr>\n",
       "    <tr>\n",
       "      <th>2</th>\n",
       "      <td>Andhra Pradesh</td>\n",
       "      <td>ANANTAPUR</td>\n",
       "      <td>2007</td>\n",
       "      <td>Kharif</td>\n",
       "      <td>Moong(Green Gram)</td>\n",
       "      <td>1000.00</td>\n",
       "      <td>937.600000</td>\n",
       "    </tr>\n",
       "    <tr>\n",
       "      <th>3</th>\n",
       "      <td>Andhra Pradesh</td>\n",
       "      <td>ANANTAPUR</td>\n",
       "      <td>2007</td>\n",
       "      <td>Rabi</td>\n",
       "      <td>Horse-gram</td>\n",
       "      <td>1000.00</td>\n",
       "      <td>830.800000</td>\n",
       "    </tr>\n",
       "    <tr>\n",
       "      <th>4</th>\n",
       "      <td>Andhra Pradesh</td>\n",
       "      <td>ANANTAPUR</td>\n",
       "      <td>2009</td>\n",
       "      <td>Rabi</td>\n",
       "      <td>Rapeseed &amp;Mustard</td>\n",
       "      <td>8.00</td>\n",
       "      <td>3.633333</td>\n",
       "    </tr>\n",
       "  </tbody>\n",
       "</table>\n",
       "</div>"
      ],
      "text/plain": [
       "                    State_Name District_Name  Crop_Year       Season  \\\n",
       "0  Andaman and Nicobar Islands      NICOBARS       2005  Whole Year    \n",
       "1  Andaman and Nicobar Islands      NICOBARS       2005  Whole Year    \n",
       "2               Andhra Pradesh     ANANTAPUR       2007  Kharif        \n",
       "3               Andhra Pradesh     ANANTAPUR       2007  Rabi          \n",
       "4               Andhra Pradesh     ANANTAPUR       2009  Rabi          \n",
       "\n",
       "                Crop     Area  production  \n",
       "0           Arecanut   795.67  749.095000  \n",
       "1       Dry chillies    17.00   11.054167  \n",
       "2  Moong(Green Gram)  1000.00  937.600000  \n",
       "3         Horse-gram  1000.00  830.800000  \n",
       "4  Rapeseed &Mustard     8.00    3.633333  "
      ]
     },
     "execution_count": 5,
     "metadata": {},
     "output_type": "execute_result"
    }
   ],
   "source": [
    "data.head()"
   ]
  },
  {
   "cell_type": "markdown",
   "id": "1ab6a4e8",
   "metadata": {},
   "source": [
    "###### isnull(). sum(). sum() returns the number of missing values in the dataset. This knowledge can assist in identifying absent data that might need interpolation or elimination prior to computing."
   ]
  },
  {
   "cell_type": "code",
   "execution_count": 6,
   "id": "8a9bbbc5",
   "metadata": {},
   "outputs": [
    {
     "data": {
      "text/plain": [
       "State_Name       0\n",
       "District_Name    0\n",
       "Crop_Year        0\n",
       "Season           0\n",
       "Crop             0\n",
       "Area             0\n",
       "production       0\n",
       "dtype: int64"
      ]
     },
     "execution_count": 6,
     "metadata": {},
     "output_type": "execute_result"
    }
   ],
   "source": [
    "data.isnull().sum()"
   ]
  },
  {
   "cell_type": "markdown",
   "id": "b93dcb06",
   "metadata": {},
   "source": [
    "### 2. Data Visualization"
   ]
  },
  {
   "cell_type": "markdown",
   "id": "9a0fef9e",
   "metadata": {},
   "source": [
    "###### Data visualization is the practice of translating information into a visual context, such as a map or graph, to make data easier for the human brain to understand and pull insights from. The main goal of data visualization is to make it easier to identify patterns, trends and outliers in large data sets."
   ]
  },
  {
   "cell_type": "markdown",
   "id": "97b14adb",
   "metadata": {},
   "source": [
    "### 2.1 Check Outliers\n"
   ]
  },
  {
   "cell_type": "markdown",
   "id": "509db3f5",
   "metadata": {},
   "source": [
    "###### Outliers are treated by either deleting them or replacing the outlier values with a logical value as per business and similar data. For data that follows a normal distribution, the values that fall more than three standard deviations from the mean are typically considered outliers. Outliers can find their way into a dataset naturally through variability, or they can be the result of issues like human error, faulty equipment, or poor sampling. Some outliers represent natural variations in the population, and they should be left as is in your dataset. These are called true outliers. Other outliers are problematic and should be removed because they represent measurement errors, data entry or processing errors, or poor sampling."
   ]
  },
  {
   "cell_type": "markdown",
   "id": "ea9f2c87",
   "metadata": {},
   "source": [
    "###### Seaborn Library:Seaborn is a Python data visualization library based on matplotlib. It provides a high-level interface for drawing attractive and informative statistical graphics."
   ]
  },
  {
   "cell_type": "code",
   "execution_count": 7,
   "id": "1c8b2f1e",
   "metadata": {
    "scrolled": false
   },
   "outputs": [
    {
     "data": {
      "text/plain": [
       "<AxesSubplot:>"
      ]
     },
     "execution_count": 7,
     "metadata": {},
     "output_type": "execute_result"
    },
    {
     "data": {
      "image/png": "[encoded data removed]",
      "text/plain": [
       "<Figure size 640x480 with 1 Axes>"
      ]
     },
     "metadata": {},
     "output_type": "display_data"
    }
   ],
   "source": [
    "import seaborn as sns\n",
    "sns.boxplot(data=data)"
   ]
  },
  {
   "cell_type": "markdown",
   "id": "ab2bb2b0",
   "metadata": {},
   "source": [
    "### 2.2 Treat Outliers"
   ]
  },
  {
   "cell_type": "code",
   "execution_count": 8,
   "id": "537fc7ce",
   "metadata": {},
   "outputs": [],
   "source": [
    "def outliers_treatment(df):\n",
    "    for i in df.columns:\n",
    "        if df[i].dtypes in ('int64','float64'):\n",
    "            q1=df[i].quantile(0.25)\n",
    "            q3=df[i].quantile(0.75)\n",
    "            iqr=q3-q1\n",
    "            upper_limit=q3+1.5*iqr\n",
    "            lower_limit=q1-1.5*iqr\n",
    "            df[i][df[i]<=lower_limit]=lower_limit\n",
    "            df[i][df[i]>=upper_limit]=upper_limit\n",
    "        else:\n",
    "            df[i]=df[i]\n",
    "    return(df)"
   ]
  },
  {
   "cell_type": "markdown",
   "id": "c38bcce9",
   "metadata": {},
   "source": [
    "###### Removing the outlier makes a stronger correlation. If the slope was positive, removing the outlier will increase the value of r , bringing it closer to 1."
   ]
  },
  {
   "cell_type": "code",
   "execution_count": 9,
   "id": "33e4302d",
   "metadata": {},
   "outputs": [
    {
     "data": {
      "text/html": [
       "<div>\n",
       "<style scoped>\n",
       "    .dataframe tbody tr th:only-of-type {\n",
       "        vertical-align: middle;\n",
       "    }\n",
       "\n",
       "    .dataframe tbody tr th {\n",
       "        vertical-align: top;\n",
       "    }\n",
       "\n",
       "    .dataframe thead th {\n",
       "        text-align: right;\n",
       "    }\n",
       "</style>\n",
       "<table border=\"1\" class=\"dataframe\">\n",
       "  <thead>\n",
       "    <tr style=\"text-align: right;\">\n",
       "      <th></th>\n",
       "      <th>State_Name</th>\n",
       "      <th>District_Name</th>\n",
       "      <th>Crop_Year</th>\n",
       "      <th>Season</th>\n",
       "      <th>Crop</th>\n",
       "      <th>Area</th>\n",
       "      <th>production</th>\n",
       "    </tr>\n",
       "  </thead>\n",
       "  <tbody>\n",
       "    <tr>\n",
       "      <th>0</th>\n",
       "      <td>Andaman and Nicobar Islands</td>\n",
       "      <td>NICOBARS</td>\n",
       "      <td>2005</td>\n",
       "      <td>Whole Year</td>\n",
       "      <td>Arecanut</td>\n",
       "      <td>197.875</td>\n",
       "      <td>161.248474</td>\n",
       "    </tr>\n",
       "    <tr>\n",
       "      <th>1</th>\n",
       "      <td>Andaman and Nicobar Islands</td>\n",
       "      <td>NICOBARS</td>\n",
       "      <td>2005</td>\n",
       "      <td>Whole Year</td>\n",
       "      <td>Dry chillies</td>\n",
       "      <td>17.000</td>\n",
       "      <td>11.054167</td>\n",
       "    </tr>\n",
       "    <tr>\n",
       "      <th>2</th>\n",
       "      <td>Andhra Pradesh</td>\n",
       "      <td>ANANTAPUR</td>\n",
       "      <td>2007</td>\n",
       "      <td>Kharif</td>\n",
       "      <td>Moong(Green Gram)</td>\n",
       "      <td>197.875</td>\n",
       "      <td>161.248474</td>\n",
       "    </tr>\n",
       "    <tr>\n",
       "      <th>3</th>\n",
       "      <td>Andhra Pradesh</td>\n",
       "      <td>ANANTAPUR</td>\n",
       "      <td>2007</td>\n",
       "      <td>Rabi</td>\n",
       "      <td>Horse-gram</td>\n",
       "      <td>197.875</td>\n",
       "      <td>161.248474</td>\n",
       "    </tr>\n",
       "    <tr>\n",
       "      <th>4</th>\n",
       "      <td>Andhra Pradesh</td>\n",
       "      <td>ANANTAPUR</td>\n",
       "      <td>2009</td>\n",
       "      <td>Rabi</td>\n",
       "      <td>Rapeseed &amp;Mustard</td>\n",
       "      <td>8.000</td>\n",
       "      <td>3.633333</td>\n",
       "    </tr>\n",
       "    <tr>\n",
       "      <th>...</th>\n",
       "      <td>...</td>\n",
       "      <td>...</td>\n",
       "      <td>...</td>\n",
       "      <td>...</td>\n",
       "      <td>...</td>\n",
       "      <td>...</td>\n",
       "      <td>...</td>\n",
       "    </tr>\n",
       "    <tr>\n",
       "      <th>3725</th>\n",
       "      <td>West Bengal</td>\n",
       "      <td>MEDINIPUR WEST</td>\n",
       "      <td>2010</td>\n",
       "      <td>Rabi</td>\n",
       "      <td>Peas &amp; beans (Pulses)</td>\n",
       "      <td>2.000</td>\n",
       "      <td>1.359643</td>\n",
       "    </tr>\n",
       "    <tr>\n",
       "      <th>3726</th>\n",
       "      <td>West Bengal</td>\n",
       "      <td>MURSHIDABAD</td>\n",
       "      <td>2006</td>\n",
       "      <td>Kharif</td>\n",
       "      <td>Moong(Green Gram)</td>\n",
       "      <td>197.875</td>\n",
       "      <td>161.248474</td>\n",
       "    </tr>\n",
       "    <tr>\n",
       "      <th>3727</th>\n",
       "      <td>West Bengal</td>\n",
       "      <td>PURULIA</td>\n",
       "      <td>2001</td>\n",
       "      <td>Rabi</td>\n",
       "      <td>Rapeseed &amp;Mustard</td>\n",
       "      <td>197.875</td>\n",
       "      <td>161.248474</td>\n",
       "    </tr>\n",
       "    <tr>\n",
       "      <th>3728</th>\n",
       "      <td>West Bengal</td>\n",
       "      <td>PURULIA</td>\n",
       "      <td>2002</td>\n",
       "      <td>Rabi</td>\n",
       "      <td>Rapeseed &amp;Mustard</td>\n",
       "      <td>197.875</td>\n",
       "      <td>161.248474</td>\n",
       "    </tr>\n",
       "    <tr>\n",
       "      <th>3729</th>\n",
       "      <td>West Bengal</td>\n",
       "      <td>PURULIA</td>\n",
       "      <td>2008</td>\n",
       "      <td>Rabi</td>\n",
       "      <td>Khesari</td>\n",
       "      <td>2.000</td>\n",
       "      <td>1.000000</td>\n",
       "    </tr>\n",
       "  </tbody>\n",
       "</table>\n",
       "<p>3730 rows × 7 columns</p>\n",
       "</div>"
      ],
      "text/plain": [
       "                       State_Name   District_Name  Crop_Year       Season  \\\n",
       "0     Andaman and Nicobar Islands        NICOBARS       2005  Whole Year    \n",
       "1     Andaman and Nicobar Islands        NICOBARS       2005  Whole Year    \n",
       "2                  Andhra Pradesh       ANANTAPUR       2007  Kharif        \n",
       "3                  Andhra Pradesh       ANANTAPUR       2007  Rabi          \n",
       "4                  Andhra Pradesh       ANANTAPUR       2009  Rabi          \n",
       "...                           ...             ...        ...          ...   \n",
       "3725                  West Bengal  MEDINIPUR WEST       2010  Rabi          \n",
       "3726                  West Bengal     MURSHIDABAD       2006  Kharif        \n",
       "3727                  West Bengal         PURULIA       2001  Rabi          \n",
       "3728                  West Bengal         PURULIA       2002  Rabi          \n",
       "3729                  West Bengal         PURULIA       2008  Rabi          \n",
       "\n",
       "                       Crop     Area  production  \n",
       "0                  Arecanut  197.875  161.248474  \n",
       "1              Dry chillies   17.000   11.054167  \n",
       "2         Moong(Green Gram)  197.875  161.248474  \n",
       "3                Horse-gram  197.875  161.248474  \n",
       "4         Rapeseed &Mustard    8.000    3.633333  \n",
       "...                     ...      ...         ...  \n",
       "3725  Peas & beans (Pulses)    2.000    1.359643  \n",
       "3726      Moong(Green Gram)  197.875  161.248474  \n",
       "3727      Rapeseed &Mustard  197.875  161.248474  \n",
       "3728      Rapeseed &Mustard  197.875  161.248474  \n",
       "3729                Khesari    2.000    1.000000  \n",
       "\n",
       "[3730 rows x 7 columns]"
      ]
     },
     "execution_count": 9,
     "metadata": {},
     "output_type": "execute_result"
    }
   ],
   "source": [
    "outliers_treatment(data)"
   ]
  },
  {
   "cell_type": "code",
   "execution_count": 10,
   "id": "35765908",
   "metadata": {},
   "outputs": [
    {
     "data": {
      "text/plain": [
       "<AxesSubplot:>"
      ]
     },
     "execution_count": 10,
     "metadata": {},
     "output_type": "execute_result"
    },
    {
     "data": {
      "image/png": "[encoded data removed]",
      "text/plain": [
       "<Figure size 640x480 with 1 Axes>"
      ]
     },
     "metadata": {},
     "output_type": "display_data"
    }
   ],
   "source": [
    "#Seaborn Library:Seaborn is a Python data visualization library based on matplotlib. It provides a high-level interface for drawing attractive and informative statistical graphics\n",
    "import seaborn as sns\n",
    "sns.boxplot(data=data)"
   ]
  },
  {
   "cell_type": "markdown",
   "id": "eb78c07b",
   "metadata": {},
   "source": [
    "### 3. Numeric data"
   ]
  },
  {
   "cell_type": "markdown",
   "id": "b4109a3f",
   "metadata": {},
   "source": [
    "###### Numerical data refers to the data that is in the form of numbers, and not in any language or descriptive form."
   ]
  },
  {
   "cell_type": "code",
   "execution_count": 11,
   "id": "15af4086",
   "metadata": {
    "scrolled": true
   },
   "outputs": [
    {
     "data": {
      "text/html": [
       "<div>\n",
       "<style scoped>\n",
       "    .dataframe tbody tr th:only-of-type {\n",
       "        vertical-align: middle;\n",
       "    }\n",
       "\n",
       "    .dataframe tbody tr th {\n",
       "        vertical-align: top;\n",
       "    }\n",
       "\n",
       "    .dataframe thead th {\n",
       "        text-align: right;\n",
       "    }\n",
       "</style>\n",
       "<table border=\"1\" class=\"dataframe\">\n",
       "  <thead>\n",
       "    <tr style=\"text-align: right;\">\n",
       "      <th></th>\n",
       "      <th>Crop_Year</th>\n",
       "      <th>Area</th>\n",
       "      <th>production</th>\n",
       "    </tr>\n",
       "  </thead>\n",
       "  <tbody>\n",
       "    <tr>\n",
       "      <th>0</th>\n",
       "      <td>2005</td>\n",
       "      <td>197.875</td>\n",
       "      <td>161.248474</td>\n",
       "    </tr>\n",
       "    <tr>\n",
       "      <th>1</th>\n",
       "      <td>2005</td>\n",
       "      <td>17.000</td>\n",
       "      <td>11.054167</td>\n",
       "    </tr>\n",
       "    <tr>\n",
       "      <th>2</th>\n",
       "      <td>2007</td>\n",
       "      <td>197.875</td>\n",
       "      <td>161.248474</td>\n",
       "    </tr>\n",
       "    <tr>\n",
       "      <th>3</th>\n",
       "      <td>2007</td>\n",
       "      <td>197.875</td>\n",
       "      <td>161.248474</td>\n",
       "    </tr>\n",
       "    <tr>\n",
       "      <th>4</th>\n",
       "      <td>2009</td>\n",
       "      <td>8.000</td>\n",
       "      <td>3.633333</td>\n",
       "    </tr>\n",
       "  </tbody>\n",
       "</table>\n",
       "</div>"
      ],
      "text/plain": [
       "   Crop_Year     Area  production\n",
       "0       2005  197.875  161.248474\n",
       "1       2005   17.000   11.054167\n",
       "2       2007  197.875  161.248474\n",
       "3       2007  197.875  161.248474\n",
       "4       2009    8.000    3.633333"
      ]
     },
     "execution_count": 11,
     "metadata": {},
     "output_type": "execute_result"
    }
   ],
   "source": [
    "import numpy as np\n",
    "data_num = data[data.select_dtypes(include=[np.number]).columns.tolist()]\n",
    "data_num.head()"
   ]
  },
  {
   "cell_type": "markdown",
   "id": "a81c4abf",
   "metadata": {},
   "source": [
    "### 4. Categorical Data"
   ]
  },
  {
   "cell_type": "markdown",
   "id": "8c1646a7",
   "metadata": {},
   "source": [
    "###### Categorical data refers to a data type that can be stored and identified based on the names or labels given to them."
   ]
  },
  {
   "cell_type": "code",
   "execution_count": 12,
   "id": "0322db48",
   "metadata": {
    "scrolled": true
   },
   "outputs": [
    {
     "data": {
      "text/html": [
       "<div>\n",
       "<style scoped>\n",
       "    .dataframe tbody tr th:only-of-type {\n",
       "        vertical-align: middle;\n",
       "    }\n",
       "\n",
       "    .dataframe tbody tr th {\n",
       "        vertical-align: top;\n",
       "    }\n",
       "\n",
       "    .dataframe thead th {\n",
       "        text-align: right;\n",
       "    }\n",
       "</style>\n",
       "<table border=\"1\" class=\"dataframe\">\n",
       "  <thead>\n",
       "    <tr style=\"text-align: right;\">\n",
       "      <th></th>\n",
       "      <th>State_Name</th>\n",
       "      <th>District_Name</th>\n",
       "      <th>Season</th>\n",
       "      <th>Crop</th>\n",
       "    </tr>\n",
       "  </thead>\n",
       "  <tbody>\n",
       "    <tr>\n",
       "      <th>0</th>\n",
       "      <td>Andaman and Nicobar Islands</td>\n",
       "      <td>NICOBARS</td>\n",
       "      <td>Whole Year</td>\n",
       "      <td>Arecanut</td>\n",
       "    </tr>\n",
       "    <tr>\n",
       "      <th>1</th>\n",
       "      <td>Andaman and Nicobar Islands</td>\n",
       "      <td>NICOBARS</td>\n",
       "      <td>Whole Year</td>\n",
       "      <td>Dry chillies</td>\n",
       "    </tr>\n",
       "    <tr>\n",
       "      <th>2</th>\n",
       "      <td>Andhra Pradesh</td>\n",
       "      <td>ANANTAPUR</td>\n",
       "      <td>Kharif</td>\n",
       "      <td>Moong(Green Gram)</td>\n",
       "    </tr>\n",
       "    <tr>\n",
       "      <th>3</th>\n",
       "      <td>Andhra Pradesh</td>\n",
       "      <td>ANANTAPUR</td>\n",
       "      <td>Rabi</td>\n",
       "      <td>Horse-gram</td>\n",
       "    </tr>\n",
       "    <tr>\n",
       "      <th>4</th>\n",
       "      <td>Andhra Pradesh</td>\n",
       "      <td>ANANTAPUR</td>\n",
       "      <td>Rabi</td>\n",
       "      <td>Rapeseed &amp;Mustard</td>\n",
       "    </tr>\n",
       "  </tbody>\n",
       "</table>\n",
       "</div>"
      ],
      "text/plain": [
       "                    State_Name District_Name       Season               Crop\n",
       "0  Andaman and Nicobar Islands      NICOBARS  Whole Year            Arecanut\n",
       "1  Andaman and Nicobar Islands      NICOBARS  Whole Year        Dry chillies\n",
       "2               Andhra Pradesh     ANANTAPUR  Kharif       Moong(Green Gram)\n",
       "3               Andhra Pradesh     ANANTAPUR  Rabi                Horse-gram\n",
       "4               Andhra Pradesh     ANANTAPUR  Rabi         Rapeseed &Mustard"
      ]
     },
     "execution_count": 12,
     "metadata": {},
     "output_type": "execute_result"
    }
   ],
   "source": [
    "data_cat = data[data.select_dtypes(include=['object']).columns.tolist()]\n",
    "data_cat.head()"
   ]
  },
  {
   "cell_type": "markdown",
   "id": "47a7f05f",
   "metadata": {},
   "source": [
    "### 5. Prepaing data for model training - Encoding"
   ]
  },
  {
   "cell_type": "markdown",
   "id": "19e685db",
   "metadata": {},
   "source": [
    "### sklearn.preprocessing.LabelEncoder"
   ]
  },
  {
   "cell_type": "markdown",
   "id": "b4241bff",
   "metadata": {},
   "source": [
    "### 5.1 Convert Categorical to numeric values"
   ]
  },
  {
   "cell_type": "markdown",
   "id": "34aaf371",
   "metadata": {},
   "source": [
    "###### Sklearn provides a very efficient tool for encoding the levels of categorical features into numeric values. LabelEncoder encode labels with a value between 0 and n_classes-1 where n is the number of distinct labels. If a label repeats it assigns the same value to as assigned earlier. LabelEncoder can be used to normalize labels. It can also be used to transform non-numerical labels (as long as they are hashable and comparable) to numerical labels. Fit label encoder. "
   ]
  },
  {
   "cell_type": "markdown",
   "id": "3418ca98",
   "metadata": {},
   "source": [
    "###### Importance of data preprocessing: It improves accuracy and reliability. Preprocessing data removes missing or inconsistent data values resulting from human or computer error, which can improve the accuracy and quality of a dataset, making it more reliable. It makes data consistent."
   ]
  },
  {
   "cell_type": "markdown",
   "id": "31990f24",
   "metadata": {},
   "source": [
    "###### The purpose of encoding is to transform data so that it can be properly (and safely) consumed by a different type of system, e.g. binary data being sent over email, or viewing special characters on a web page. The goal is not to keep information secret, but rather to ensure that it's able to be properly consumed."
   ]
  },
  {
   "cell_type": "code",
   "execution_count": 13,
   "id": "1bf142b8",
   "metadata": {
    "scrolled": true
   },
   "outputs": [
    {
     "data": {
      "text/html": [
       "<div>\n",
       "<style scoped>\n",
       "    .dataframe tbody tr th:only-of-type {\n",
       "        vertical-align: middle;\n",
       "    }\n",
       "\n",
       "    .dataframe tbody tr th {\n",
       "        vertical-align: top;\n",
       "    }\n",
       "\n",
       "    .dataframe thead th {\n",
       "        text-align: right;\n",
       "    }\n",
       "</style>\n",
       "<table border=\"1\" class=\"dataframe\">\n",
       "  <thead>\n",
       "    <tr style=\"text-align: right;\">\n",
       "      <th></th>\n",
       "      <th>State_Name</th>\n",
       "      <th>District_Name</th>\n",
       "      <th>Season</th>\n",
       "      <th>Crop</th>\n",
       "    </tr>\n",
       "  </thead>\n",
       "  <tbody>\n",
       "    <tr>\n",
       "      <th>0</th>\n",
       "      <td>0</td>\n",
       "      <td>269</td>\n",
       "      <td>4</td>\n",
       "      <td>0</td>\n",
       "    </tr>\n",
       "    <tr>\n",
       "      <th>1</th>\n",
       "      <td>0</td>\n",
       "      <td>269</td>\n",
       "      <td>4</td>\n",
       "      <td>15</td>\n",
       "    </tr>\n",
       "    <tr>\n",
       "      <th>2</th>\n",
       "      <td>1</td>\n",
       "      <td>16</td>\n",
       "      <td>1</td>\n",
       "      <td>30</td>\n",
       "    </tr>\n",
       "  </tbody>\n",
       "</table>\n",
       "</div>"
      ],
      "text/plain": [
       "   State_Name  District_Name  Season  Crop\n",
       "0           0            269       4     0\n",
       "1           0            269       4    15\n",
       "2           1             16       1    30"
      ]
     },
     "execution_count": 13,
     "metadata": {},
     "output_type": "execute_result"
    }
   ],
   "source": [
    "from sklearn.preprocessing import LabelEncoder\n",
    "data_cat=data_cat.apply(LabelEncoder().fit_transform)\n",
    "data_cat.head(3)"
   ]
  },
  {
   "cell_type": "markdown",
   "id": "796f2929",
   "metadata": {},
   "source": [
    "### 5.2 Combine data"
   ]
  },
  {
   "cell_type": "markdown",
   "id": "5094ff13",
   "metadata": {},
   "source": [
    "###### The Pandas concat() function is used to concatenate (or join together) two or more Pandas objects such as dataframes or series. It can be used to join two dataframes together vertically or horizontally, or add additional rows or columns."
   ]
  },
  {
   "cell_type": "code",
   "execution_count": 14,
   "id": "ccb1773a",
   "metadata": {},
   "outputs": [],
   "source": [
    "data_combined = pd.concat([data_num, data_cat],axis=1)"
   ]
  },
  {
   "cell_type": "code",
   "execution_count": 15,
   "id": "b13f11c9",
   "metadata": {},
   "outputs": [
    {
     "data": {
      "text/html": [
       "<div>\n",
       "<style scoped>\n",
       "    .dataframe tbody tr th:only-of-type {\n",
       "        vertical-align: middle;\n",
       "    }\n",
       "\n",
       "    .dataframe tbody tr th {\n",
       "        vertical-align: top;\n",
       "    }\n",
       "\n",
       "    .dataframe thead th {\n",
       "        text-align: right;\n",
       "    }\n",
       "</style>\n",
       "<table border=\"1\" class=\"dataframe\">\n",
       "  <thead>\n",
       "    <tr style=\"text-align: right;\">\n",
       "      <th></th>\n",
       "      <th>Crop_Year</th>\n",
       "      <th>Area</th>\n",
       "      <th>production</th>\n",
       "      <th>State_Name</th>\n",
       "      <th>District_Name</th>\n",
       "      <th>Season</th>\n",
       "      <th>Crop</th>\n",
       "    </tr>\n",
       "  </thead>\n",
       "  <tbody>\n",
       "    <tr>\n",
       "      <th>0</th>\n",
       "      <td>2005</td>\n",
       "      <td>197.875</td>\n",
       "      <td>161.248474</td>\n",
       "      <td>0</td>\n",
       "      <td>269</td>\n",
       "      <td>4</td>\n",
       "      <td>0</td>\n",
       "    </tr>\n",
       "    <tr>\n",
       "      <th>1</th>\n",
       "      <td>2005</td>\n",
       "      <td>17.000</td>\n",
       "      <td>11.054167</td>\n",
       "      <td>0</td>\n",
       "      <td>269</td>\n",
       "      <td>4</td>\n",
       "      <td>15</td>\n",
       "    </tr>\n",
       "    <tr>\n",
       "      <th>2</th>\n",
       "      <td>2007</td>\n",
       "      <td>197.875</td>\n",
       "      <td>161.248474</td>\n",
       "      <td>1</td>\n",
       "      <td>16</td>\n",
       "      <td>1</td>\n",
       "      <td>30</td>\n",
       "    </tr>\n",
       "    <tr>\n",
       "      <th>3</th>\n",
       "      <td>2007</td>\n",
       "      <td>197.875</td>\n",
       "      <td>161.248474</td>\n",
       "      <td>1</td>\n",
       "      <td>16</td>\n",
       "      <td>2</td>\n",
       "      <td>21</td>\n",
       "    </tr>\n",
       "    <tr>\n",
       "      <th>4</th>\n",
       "      <td>2009</td>\n",
       "      <td>8.000</td>\n",
       "      <td>3.633333</td>\n",
       "      <td>1</td>\n",
       "      <td>16</td>\n",
       "      <td>2</td>\n",
       "      <td>41</td>\n",
       "    </tr>\n",
       "  </tbody>\n",
       "</table>\n",
       "</div>"
      ],
      "text/plain": [
       "   Crop_Year     Area  production  State_Name  District_Name  Season  Crop\n",
       "0       2005  197.875  161.248474           0            269       4     0\n",
       "1       2005   17.000   11.054167           0            269       4    15\n",
       "2       2007  197.875  161.248474           1             16       1    30\n",
       "3       2007  197.875  161.248474           1             16       2    21\n",
       "4       2009    8.000    3.633333           1             16       2    41"
      ]
     },
     "execution_count": 15,
     "metadata": {},
     "output_type": "execute_result"
    }
   ],
   "source": [
    "data_combined.head()"
   ]
  },
  {
   "cell_type": "markdown",
   "id": "95027f81",
   "metadata": {},
   "source": [
    "### 6. Splitting Training and Test Data"
   ]
  },
  {
   "cell_type": "markdown",
   "id": "6234d9ec",
   "metadata": {},
   "source": [
    "###### We need to split a dataset into train and test sets to evaluate how well our machine learning model performs. The train set is used to fit the model, and the statistics of the train set are known. The second set is called the test data set, this set is solely used for predictions."
   ]
  },
  {
   "cell_type": "markdown",
   "id": "defa5a48",
   "metadata": {},
   "source": [
    "###### Sklearn's model selection module provides various functions to cross-validate our model, tune the estimator's hyperparameters, or produce validation and learning curves. Here is a list of the functions provided in this module. Later we will understand the theory and use of these functions with code examples. The train_test_split function of the sklearn. model_selection package in Python splits arrays or matrices into random subsets for train and test data, respectively."
   ]
  },
  {
   "cell_type": "markdown",
   "id": "8b655ad1",
   "metadata": {},
   "source": [
    "###### The Sklearn train_test_split function helps us create our training data and test data. This is because typically, the training data and test data come from the same original dataset. To get the data to build a model, we start with a single dataset, and then we split it into two datasets: train and test. By using similar data for training and testing, you can minimize the effects of data discrepancies and better understand the characteristics of the model. After a model has been processed by using the training set, you test the model by making predictions against the test set."
   ]
  },
  {
   "cell_type": "code",
   "execution_count": 16,
   "id": "76c82ebd",
   "metadata": {},
   "outputs": [],
   "source": [
    "#Dividing data into train and test dataset\n",
    "from sklearn.model_selection import train_test_split\n",
    "#from random import seed\n",
    "\n",
    "\n",
    "x = data_combined.drop(['production'],axis=1)\n",
    "y = data_combined[['production']]\n",
    "\n",
    "# Train test split\n",
    "\n",
    "X_train, X_test, y_train, y_test =train_test_split(x,y,test_size=0.3,random_state=60)"
   ]
  },
  {
   "cell_type": "markdown",
   "id": "e31fc19b",
   "metadata": {},
   "source": [
    "### 7. Decision Tree Regressor Model"
   ]
  },
  {
   "cell_type": "markdown",
   "id": "38cb02dc",
   "metadata": {},
   "source": [
    "###### The decision tree model can be used for both classification and regression problems, and it is easy to interpret, understand, and visualize. The output of a decision tree can also be easily understood.Decision trees help you to evaluate your options. Decision trees are excellent tools for helping you to choose between several courses of action. They provide a highly effective structure within which you can lay out options and investigate the possible outcomes of choosing those options."
   ]
  },
  {
   "cell_type": "code",
   "execution_count": 17,
   "id": "9af97419",
   "metadata": {},
   "outputs": [
    {
     "data": {
      "text/plain": [
       "DecisionTreeRegressor()"
      ]
     },
     "execution_count": 17,
     "metadata": {},
     "output_type": "execute_result"
    }
   ],
   "source": [
    "#Import Tree Classifier model\n",
    "from sklearn import tree\n",
    "\n",
    "dt = tree.DecisionTreeRegressor()  # by default it use Gini index for split\n",
    "#Train the model using the training sets\n",
    "dt.fit(X_train,y_train)"
   ]
  },
  {
   "cell_type": "code",
   "execution_count": 18,
   "id": "79f511a9",
   "metadata": {},
   "outputs": [
    {
     "data": {
      "text/html": [
       "<div>\n",
       "<style scoped>\n",
       "    .dataframe tbody tr th:only-of-type {\n",
       "        vertical-align: middle;\n",
       "    }\n",
       "\n",
       "    .dataframe tbody tr th {\n",
       "        vertical-align: top;\n",
       "    }\n",
       "\n",
       "    .dataframe thead th {\n",
       "        text-align: right;\n",
       "    }\n",
       "</style>\n",
       "<table border=\"1\" class=\"dataframe\">\n",
       "  <thead>\n",
       "    <tr style=\"text-align: right;\">\n",
       "      <th></th>\n",
       "      <th>Crop_Year</th>\n",
       "      <th>Area</th>\n",
       "      <th>State_Name</th>\n",
       "      <th>District_Name</th>\n",
       "      <th>Season</th>\n",
       "      <th>Crop</th>\n",
       "    </tr>\n",
       "  </thead>\n",
       "  <tbody>\n",
       "    <tr>\n",
       "      <th>66</th>\n",
       "      <td>2007</td>\n",
       "      <td>197.875</td>\n",
       "      <td>1</td>\n",
       "      <td>402</td>\n",
       "      <td>2</td>\n",
       "      <td>45</td>\n",
       "    </tr>\n",
       "    <tr>\n",
       "      <th>391</th>\n",
       "      <td>2011</td>\n",
       "      <td>1.000</td>\n",
       "      <td>6</td>\n",
       "      <td>304</td>\n",
       "      <td>1</td>\n",
       "      <td>32</td>\n",
       "    </tr>\n",
       "    <tr>\n",
       "      <th>3159</th>\n",
       "      <td>2002</td>\n",
       "      <td>7.000</td>\n",
       "      <td>22</td>\n",
       "      <td>378</td>\n",
       "      <td>1</td>\n",
       "      <td>1</td>\n",
       "    </tr>\n",
       "    <tr>\n",
       "      <th>519</th>\n",
       "      <td>2004</td>\n",
       "      <td>27.000</td>\n",
       "      <td>9</td>\n",
       "      <td>10</td>\n",
       "      <td>2</td>\n",
       "      <td>4</td>\n",
       "    </tr>\n",
       "    <tr>\n",
       "      <th>1916</th>\n",
       "      <td>2009</td>\n",
       "      <td>1.000</td>\n",
       "      <td>12</td>\n",
       "      <td>387</td>\n",
       "      <td>1</td>\n",
       "      <td>45</td>\n",
       "    </tr>\n",
       "  </tbody>\n",
       "</table>\n",
       "</div>"
      ],
      "text/plain": [
       "      Crop_Year     Area  State_Name  District_Name  Season  Crop\n",
       "66         2007  197.875           1            402       2    45\n",
       "391        2011    1.000           6            304       1    32\n",
       "3159       2002    7.000          22            378       1     1\n",
       "519        2004   27.000           9             10       2     4\n",
       "1916       2009    1.000          12            387       1    45"
      ]
     },
     "execution_count": 18,
     "metadata": {},
     "output_type": "execute_result"
    }
   ],
   "source": [
    "X_train = pd.DataFrame(X_train)\n",
    "X_train.head()"
   ]
  },
  {
   "cell_type": "markdown",
   "id": "3c8e13a7",
   "metadata": {},
   "source": [
    "### 7.1 Predictions on train data"
   ]
  },
  {
   "cell_type": "code",
   "execution_count": 19,
   "id": "1f7b665a",
   "metadata": {},
   "outputs": [
    {
     "data": {
      "text/html": [
       "<div>\n",
       "<style scoped>\n",
       "    .dataframe tbody tr th:only-of-type {\n",
       "        vertical-align: middle;\n",
       "    }\n",
       "\n",
       "    .dataframe tbody tr th {\n",
       "        vertical-align: top;\n",
       "    }\n",
       "\n",
       "    .dataframe thead th {\n",
       "        text-align: right;\n",
       "    }\n",
       "</style>\n",
       "<table border=\"1\" class=\"dataframe\">\n",
       "  <thead>\n",
       "    <tr style=\"text-align: right;\">\n",
       "      <th></th>\n",
       "      <th>Crop_Year</th>\n",
       "      <th>Area</th>\n",
       "      <th>State_Name</th>\n",
       "      <th>District_Name</th>\n",
       "      <th>Season</th>\n",
       "      <th>Crop</th>\n",
       "      <th>production</th>\n",
       "    </tr>\n",
       "  </thead>\n",
       "  <tbody>\n",
       "    <tr>\n",
       "      <th>66</th>\n",
       "      <td>2007</td>\n",
       "      <td>197.875</td>\n",
       "      <td>1</td>\n",
       "      <td>402</td>\n",
       "      <td>2</td>\n",
       "      <td>45</td>\n",
       "      <td>161.248474</td>\n",
       "    </tr>\n",
       "    <tr>\n",
       "      <th>391</th>\n",
       "      <td>2011</td>\n",
       "      <td>1.000</td>\n",
       "      <td>6</td>\n",
       "      <td>304</td>\n",
       "      <td>1</td>\n",
       "      <td>32</td>\n",
       "      <td>1.000000</td>\n",
       "    </tr>\n",
       "    <tr>\n",
       "      <th>3159</th>\n",
       "      <td>2002</td>\n",
       "      <td>7.000</td>\n",
       "      <td>22</td>\n",
       "      <td>378</td>\n",
       "      <td>1</td>\n",
       "      <td>1</td>\n",
       "      <td>5.683333</td>\n",
       "    </tr>\n",
       "    <tr>\n",
       "      <th>519</th>\n",
       "      <td>2004</td>\n",
       "      <td>27.000</td>\n",
       "      <td>9</td>\n",
       "      <td>10</td>\n",
       "      <td>2</td>\n",
       "      <td>4</td>\n",
       "      <td>8.720000</td>\n",
       "    </tr>\n",
       "    <tr>\n",
       "      <th>1916</th>\n",
       "      <td>2009</td>\n",
       "      <td>1.000</td>\n",
       "      <td>12</td>\n",
       "      <td>387</td>\n",
       "      <td>1</td>\n",
       "      <td>45</td>\n",
       "      <td>1.000000</td>\n",
       "    </tr>\n",
       "  </tbody>\n",
       "</table>\n",
       "</div>"
      ],
      "text/plain": [
       "      Crop_Year     Area  State_Name  District_Name  Season  Crop  production\n",
       "66         2007  197.875           1            402       2    45  161.248474\n",
       "391        2011    1.000           6            304       1    32    1.000000\n",
       "3159       2002    7.000          22            378       1     1    5.683333\n",
       "519        2004   27.000           9             10       2     4    8.720000\n",
       "1916       2009    1.000          12            387       1    45    1.000000"
      ]
     },
     "execution_count": 19,
     "metadata": {},
     "output_type": "execute_result"
    }
   ],
   "source": [
    "train=pd.concat([X_train,y_train],axis=1)\n",
    "train.head()"
   ]
  },
  {
   "cell_type": "markdown",
   "id": "e3f76748",
   "metadata": {},
   "source": [
    "###### The list() function allows us to create a list in Python. It takes an iterable as a parameter and returns a list. This iterable can be a tuple, a dictionary, a string, or even another list."
   ]
  },
  {
   "cell_type": "code",
   "execution_count": 20,
   "id": "f87577dc",
   "metadata": {},
   "outputs": [
    {
     "data": {
      "text/plain": [
       "['Area', 'State_Name', 'District_Name', 'Season', 'Crop', 'production']"
      ]
     },
     "execution_count": 20,
     "metadata": {},
     "output_type": "execute_result"
    }
   ],
   "source": [
    "features = list(train.columns[1:])\n",
    "features"
   ]
  },
  {
   "cell_type": "markdown",
   "id": "84e40b13",
   "metadata": {},
   "source": [
    "###### Predict() : given a trained model, predict the label of a new set of data. This method accepts one argument, the new data X_new (e.g. model. predict(X_new) ), and returns the learned label for each object in the array."
   ]
  },
  {
   "cell_type": "code",
   "execution_count": 21,
   "id": "1ab3849a",
   "metadata": {},
   "outputs": [
    {
     "data": {
      "text/html": [
       "<div>\n",
       "<style scoped>\n",
       "    .dataframe tbody tr th:only-of-type {\n",
       "        vertical-align: middle;\n",
       "    }\n",
       "\n",
       "    .dataframe tbody tr th {\n",
       "        vertical-align: top;\n",
       "    }\n",
       "\n",
       "    .dataframe thead th {\n",
       "        text-align: right;\n",
       "    }\n",
       "</style>\n",
       "<table border=\"1\" class=\"dataframe\">\n",
       "  <thead>\n",
       "    <tr style=\"text-align: right;\">\n",
       "      <th></th>\n",
       "      <th>Crop_Year</th>\n",
       "      <th>Area</th>\n",
       "      <th>State_Name</th>\n",
       "      <th>District_Name</th>\n",
       "      <th>Season</th>\n",
       "      <th>Crop</th>\n",
       "      <th>production</th>\n",
       "      <th>Predicted</th>\n",
       "    </tr>\n",
       "  </thead>\n",
       "  <tbody>\n",
       "    <tr>\n",
       "      <th>66</th>\n",
       "      <td>2007</td>\n",
       "      <td>197.875</td>\n",
       "      <td>1</td>\n",
       "      <td>402</td>\n",
       "      <td>2</td>\n",
       "      <td>45</td>\n",
       "      <td>161.248474</td>\n",
       "      <td>161.248474</td>\n",
       "    </tr>\n",
       "    <tr>\n",
       "      <th>391</th>\n",
       "      <td>2011</td>\n",
       "      <td>1.000</td>\n",
       "      <td>6</td>\n",
       "      <td>304</td>\n",
       "      <td>1</td>\n",
       "      <td>32</td>\n",
       "      <td>1.000000</td>\n",
       "      <td>1.000000</td>\n",
       "    </tr>\n",
       "    <tr>\n",
       "      <th>3159</th>\n",
       "      <td>2002</td>\n",
       "      <td>7.000</td>\n",
       "      <td>22</td>\n",
       "      <td>378</td>\n",
       "      <td>1</td>\n",
       "      <td>1</td>\n",
       "      <td>5.683333</td>\n",
       "      <td>5.683333</td>\n",
       "    </tr>\n",
       "    <tr>\n",
       "      <th>519</th>\n",
       "      <td>2004</td>\n",
       "      <td>27.000</td>\n",
       "      <td>9</td>\n",
       "      <td>10</td>\n",
       "      <td>2</td>\n",
       "      <td>4</td>\n",
       "      <td>8.720000</td>\n",
       "      <td>8.720000</td>\n",
       "    </tr>\n",
       "    <tr>\n",
       "      <th>1916</th>\n",
       "      <td>2009</td>\n",
       "      <td>1.000</td>\n",
       "      <td>12</td>\n",
       "      <td>387</td>\n",
       "      <td>1</td>\n",
       "      <td>45</td>\n",
       "      <td>1.000000</td>\n",
       "      <td>1.000000</td>\n",
       "    </tr>\n",
       "  </tbody>\n",
       "</table>\n",
       "</div>"
      ],
      "text/plain": [
       "      Crop_Year     Area  State_Name  District_Name  Season  Crop  production  \\\n",
       "66         2007  197.875           1            402       2    45  161.248474   \n",
       "391        2011    1.000           6            304       1    32    1.000000   \n",
       "3159       2002    7.000          22            378       1     1    5.683333   \n",
       "519        2004   27.000           9             10       2     4    8.720000   \n",
       "1916       2009    1.000          12            387       1    45    1.000000   \n",
       "\n",
       "       Predicted  \n",
       "66    161.248474  \n",
       "391     1.000000  \n",
       "3159    5.683333  \n",
       "519     8.720000  \n",
       "1916    1.000000  "
      ]
     },
     "execution_count": 21,
     "metadata": {},
     "output_type": "execute_result"
    }
   ],
   "source": [
    "train['Predicted']=dt.predict(X_train)\n",
    "train.head()"
   ]
  },
  {
   "cell_type": "markdown",
   "id": "12b370f1",
   "metadata": {},
   "source": [
    "### 7.2 sklearn.metrics.r2_score"
   ]
  },
  {
   "cell_type": "markdown",
   "id": "d42dfb42",
   "metadata": {},
   "source": [
    "###### r2_score: (coefficient of determination) regression score function. Best possible score is 1.0 and it can be negative (because the model can be arbitrarily worse). In the general case when the true y is non-constant, a constant model that always predicts the average y disregarding the input features would get a  score of 0.0. In the particular case when y_true is constant, the  score is not finite: it is either NaN (perfect predictions) or -Inf (imperfect predictions). To prevent such non-finite numbers to pollute higher-level experiments such as a grid search cross-validation, by default these cases are replaced with 1.0 (perfect predictions) or 0.0 (imperfect predictions) respectively. You can set force_finite to False to prevent this fix from happening."
   ]
  },
  {
   "cell_type": "code",
   "execution_count": 22,
   "id": "a3cfcf87",
   "metadata": {},
   "outputs": [
    {
     "name": "stdout",
     "output_type": "stream",
     "text": [
      "Accuracy 1.0\n"
     ]
    }
   ],
   "source": [
    "from sklearn.metrics import r2_score\n",
    "r = r2_score(train['Predicted'],train['production'])\n",
    "print('Accuracy',r)"
   ]
  },
  {
   "cell_type": "markdown",
   "id": "73c677a6",
   "metadata": {},
   "source": [
    "### 7.3 Predictions on test data"
   ]
  },
  {
   "cell_type": "code",
   "execution_count": 23,
   "id": "0b7ab64a",
   "metadata": {},
   "outputs": [
    {
     "data": {
      "text/html": [
       "<div>\n",
       "<style scoped>\n",
       "    .dataframe tbody tr th:only-of-type {\n",
       "        vertical-align: middle;\n",
       "    }\n",
       "\n",
       "    .dataframe tbody tr th {\n",
       "        vertical-align: top;\n",
       "    }\n",
       "\n",
       "    .dataframe thead th {\n",
       "        text-align: right;\n",
       "    }\n",
       "</style>\n",
       "<table border=\"1\" class=\"dataframe\">\n",
       "  <thead>\n",
       "    <tr style=\"text-align: right;\">\n",
       "      <th></th>\n",
       "      <th>Crop_Year</th>\n",
       "      <th>Area</th>\n",
       "      <th>State_Name</th>\n",
       "      <th>District_Name</th>\n",
       "      <th>Season</th>\n",
       "      <th>Crop</th>\n",
       "      <th>production</th>\n",
       "    </tr>\n",
       "  </thead>\n",
       "  <tbody>\n",
       "    <tr>\n",
       "      <th>987</th>\n",
       "      <td>2005</td>\n",
       "      <td>197.875</td>\n",
       "      <td>9</td>\n",
       "      <td>177</td>\n",
       "      <td>2</td>\n",
       "      <td>18</td>\n",
       "      <td>49.950000</td>\n",
       "    </tr>\n",
       "    <tr>\n",
       "      <th>3346</th>\n",
       "      <td>2011</td>\n",
       "      <td>5.000</td>\n",
       "      <td>23</td>\n",
       "      <td>322</td>\n",
       "      <td>1</td>\n",
       "      <td>55</td>\n",
       "      <td>2.875000</td>\n",
       "    </tr>\n",
       "    <tr>\n",
       "      <th>2044</th>\n",
       "      <td>2014</td>\n",
       "      <td>4.000</td>\n",
       "      <td>13</td>\n",
       "      <td>207</td>\n",
       "      <td>4</td>\n",
       "      <td>30</td>\n",
       "      <td>0.936738</td>\n",
       "    </tr>\n",
       "    <tr>\n",
       "      <th>866</th>\n",
       "      <td>2004</td>\n",
       "      <td>72.000</td>\n",
       "      <td>9</td>\n",
       "      <td>165</td>\n",
       "      <td>1</td>\n",
       "      <td>27</td>\n",
       "      <td>43.048333</td>\n",
       "    </tr>\n",
       "    <tr>\n",
       "      <th>1026</th>\n",
       "      <td>2010</td>\n",
       "      <td>14.000</td>\n",
       "      <td>9</td>\n",
       "      <td>177</td>\n",
       "      <td>1</td>\n",
       "      <td>30</td>\n",
       "      <td>1.100000</td>\n",
       "    </tr>\n",
       "  </tbody>\n",
       "</table>\n",
       "</div>"
      ],
      "text/plain": [
       "      Crop_Year     Area  State_Name  District_Name  Season  Crop  production\n",
       "987        2005  197.875           9            177       2    18   49.950000\n",
       "3346       2011    5.000          23            322       1    55    2.875000\n",
       "2044       2014    4.000          13            207       4    30    0.936738\n",
       "866        2004   72.000           9            165       1    27   43.048333\n",
       "1026       2010   14.000           9            177       1    30    1.100000"
      ]
     },
     "execution_count": 23,
     "metadata": {},
     "output_type": "execute_result"
    }
   ],
   "source": [
    "test=pd.concat([X_test,y_test],axis=1)\n",
    "test.head()"
   ]
  },
  {
   "cell_type": "code",
   "execution_count": 24,
   "id": "c5961ae4",
   "metadata": {},
   "outputs": [
    {
     "data": {
      "text/html": [
       "<div>\n",
       "<style scoped>\n",
       "    .dataframe tbody tr th:only-of-type {\n",
       "        vertical-align: middle;\n",
       "    }\n",
       "\n",
       "    .dataframe tbody tr th {\n",
       "        vertical-align: top;\n",
       "    }\n",
       "\n",
       "    .dataframe thead th {\n",
       "        text-align: right;\n",
       "    }\n",
       "</style>\n",
       "<table border=\"1\" class=\"dataframe\">\n",
       "  <thead>\n",
       "    <tr style=\"text-align: right;\">\n",
       "      <th></th>\n",
       "      <th>Crop_Year</th>\n",
       "      <th>Area</th>\n",
       "      <th>State_Name</th>\n",
       "      <th>District_Name</th>\n",
       "      <th>Season</th>\n",
       "      <th>Crop</th>\n",
       "      <th>production</th>\n",
       "      <th>Predicted</th>\n",
       "    </tr>\n",
       "  </thead>\n",
       "  <tbody>\n",
       "    <tr>\n",
       "      <th>987</th>\n",
       "      <td>2005</td>\n",
       "      <td>197.875</td>\n",
       "      <td>9</td>\n",
       "      <td>177</td>\n",
       "      <td>2</td>\n",
       "      <td>18</td>\n",
       "      <td>49.950000</td>\n",
       "      <td>161.248474</td>\n",
       "    </tr>\n",
       "    <tr>\n",
       "      <th>3346</th>\n",
       "      <td>2011</td>\n",
       "      <td>5.000</td>\n",
       "      <td>23</td>\n",
       "      <td>322</td>\n",
       "      <td>1</td>\n",
       "      <td>55</td>\n",
       "      <td>2.875000</td>\n",
       "      <td>2.001212</td>\n",
       "    </tr>\n",
       "    <tr>\n",
       "      <th>2044</th>\n",
       "      <td>2014</td>\n",
       "      <td>4.000</td>\n",
       "      <td>13</td>\n",
       "      <td>207</td>\n",
       "      <td>4</td>\n",
       "      <td>30</td>\n",
       "      <td>0.936738</td>\n",
       "      <td>0.000000</td>\n",
       "    </tr>\n",
       "    <tr>\n",
       "      <th>866</th>\n",
       "      <td>2004</td>\n",
       "      <td>72.000</td>\n",
       "      <td>9</td>\n",
       "      <td>165</td>\n",
       "      <td>1</td>\n",
       "      <td>27</td>\n",
       "      <td>43.048333</td>\n",
       "      <td>40.033333</td>\n",
       "    </tr>\n",
       "    <tr>\n",
       "      <th>1026</th>\n",
       "      <td>2010</td>\n",
       "      <td>14.000</td>\n",
       "      <td>9</td>\n",
       "      <td>177</td>\n",
       "      <td>1</td>\n",
       "      <td>30</td>\n",
       "      <td>1.100000</td>\n",
       "      <td>2.175000</td>\n",
       "    </tr>\n",
       "  </tbody>\n",
       "</table>\n",
       "</div>"
      ],
      "text/plain": [
       "      Crop_Year     Area  State_Name  District_Name  Season  Crop  production  \\\n",
       "987        2005  197.875           9            177       2    18   49.950000   \n",
       "3346       2011    5.000          23            322       1    55    2.875000   \n",
       "2044       2014    4.000          13            207       4    30    0.936738   \n",
       "866        2004   72.000           9            165       1    27   43.048333   \n",
       "1026       2010   14.000           9            177       1    30    1.100000   \n",
       "\n",
       "       Predicted  \n",
       "987   161.248474  \n",
       "3346    2.001212  \n",
       "2044    0.000000  \n",
       "866    40.033333  \n",
       "1026    2.175000  "
      ]
     },
     "execution_count": 24,
     "metadata": {},
     "output_type": "execute_result"
    }
   ],
   "source": [
    "test['Predicted']=dt.predict(X_test)\n",
    "test.head()"
   ]
  },
  {
   "cell_type": "code",
   "execution_count": 25,
   "id": "a853b3bc",
   "metadata": {},
   "outputs": [
    {
     "name": "stdout",
     "output_type": "stream",
     "text": [
      "Test Accuracy 0.733167930449842\n"
     ]
    }
   ],
   "source": [
    "r = r2_score(test['Predicted'],test['production'])\n",
    "print('Test Accuracy',r)"
   ]
  },
  {
   "cell_type": "markdown",
   "id": "07d10d29",
   "metadata": {},
   "source": [
    "### 8. Grid Search CV"
   ]
  },
  {
   "cell_type": "markdown",
   "id": "eebf3761",
   "metadata": {},
   "source": [
    "###### GridSearchCV is a technique for finding the optimal parameter values from a given set of parameters in a grid. It's essentially a cross-validation technique. The model as well as the parameters must be entered. After extracting the best parameter values, predictions are made."
   ]
  },
  {
   "cell_type": "markdown",
   "id": "8e4bc150",
   "metadata": {},
   "source": [
    "###### GridSearchCV tries all the combinations of the values passed in the dictionary and evaluates the model for each combination using the Cross-Validation method. Hence after using this function we get accuracy/loss for every combination of hyperparameters and we can choose the one with the best performance. One method is to try out different values and then pick the value that gives the best score. This technique is known as a grid search. If we had to select the values for two or more parameters, we would evaluate all combinations of the sets of values thus forming a grid of values."
   ]
  },
  {
   "cell_type": "markdown",
   "id": "8b84906e",
   "metadata": {},
   "source": [
    "###### GridSearchCV is also known as GridSearch cross-validation: an internal cross-validation technique is used to calculate the score for each combination of parameters on the grid."
   ]
  },
  {
   "cell_type": "code",
   "execution_count": 26,
   "id": "e0657e05",
   "metadata": {
    "scrolled": true
   },
   "outputs": [
    {
     "name": "stdout",
     "output_type": "stream",
     "text": [
      "Fitting 10 folds for each of 27 candidates, totalling 270 fits\n"
     ]
    },
    {
     "data": {
      "text/plain": [
       "GridSearchCV(cv=10, estimator=DecisionTreeRegressor(random_state=42),\n",
       "             param_grid={'max_depth': [3, 4, 6],\n",
       "                         'min_samples_leaf': [50, 70, 80],\n",
       "                         'min_samples_split': [100, 200, 270]},\n",
       "             verbose=1)"
      ]
     },
     "execution_count": 26,
     "metadata": {},
     "output_type": "execute_result"
    }
   ],
   "source": [
    "from sklearn.tree import DecisionTreeRegressor\n",
    "from sklearn.model_selection import GridSearchCV\n",
    "params = { 'min_samples_split': [100, 200,270], ## Parent \n",
    "           'min_samples_leaf': [50,70,80], ## Child or Leave \n",
    "           'max_depth':[3,4,6]}\n",
    "grid_search_cv = GridSearchCV(DecisionTreeRegressor(random_state=42), params, verbose=1, cv=10)\n",
    "grid_search_cv.fit(X_train, y_train)"
   ]
  },
  {
   "cell_type": "code",
   "execution_count": 27,
   "id": "534a254c",
   "metadata": {},
   "outputs": [
    {
     "data": {
      "text/plain": [
       "DecisionTreeRegressor(max_depth=6, min_samples_leaf=50, min_samples_split=100,\n",
       "                      random_state=42)"
      ]
     },
     "execution_count": 27,
     "metadata": {},
     "output_type": "execute_result"
    }
   ],
   "source": [
    "grid_search_cv.best_estimator_"
   ]
  },
  {
   "cell_type": "code",
   "execution_count": 28,
   "id": "c0bd45b4",
   "metadata": {},
   "outputs": [
    {
     "data": {
      "text/plain": [
       "DecisionTreeRegressor(criterion='mse', max_depth=6, min_samples_leaf=50,\n",
       "                      min_samples_split=100)"
      ]
     },
     "execution_count": 28,
     "metadata": {},
     "output_type": "execute_result"
    }
   ],
   "source": [
    "#Import Tree Classifier model\n",
    "from sklearn import tree\n",
    "\n",
    "dt = tree.DecisionTreeRegressor(criterion='mse',  #splitter\n",
    "                                 min_samples_leaf=50, ## child\n",
    "                                 min_samples_split=100, #parent \n",
    "                                 max_depth=6)  #branches\n",
    "#Train the model using the training sets\n",
    "dt.fit(X_train,y_train)"
   ]
  },
  {
   "cell_type": "markdown",
   "id": "dd11c920",
   "metadata": {},
   "source": [
    "### 8.1 Predictions on train data"
   ]
  },
  {
   "cell_type": "code",
   "execution_count": 29,
   "id": "9514077c",
   "metadata": {
    "scrolled": true
   },
   "outputs": [
    {
     "data": {
      "text/html": [
       "<div>\n",
       "<style scoped>\n",
       "    .dataframe tbody tr th:only-of-type {\n",
       "        vertical-align: middle;\n",
       "    }\n",
       "\n",
       "    .dataframe tbody tr th {\n",
       "        vertical-align: top;\n",
       "    }\n",
       "\n",
       "    .dataframe thead th {\n",
       "        text-align: right;\n",
       "    }\n",
       "</style>\n",
       "<table border=\"1\" class=\"dataframe\">\n",
       "  <thead>\n",
       "    <tr style=\"text-align: right;\">\n",
       "      <th></th>\n",
       "      <th>Crop_Year</th>\n",
       "      <th>Area</th>\n",
       "      <th>State_Name</th>\n",
       "      <th>District_Name</th>\n",
       "      <th>Season</th>\n",
       "      <th>Crop</th>\n",
       "      <th>production</th>\n",
       "      <th>Predicted</th>\n",
       "    </tr>\n",
       "  </thead>\n",
       "  <tbody>\n",
       "    <tr>\n",
       "      <th>66</th>\n",
       "      <td>2007</td>\n",
       "      <td>197.875</td>\n",
       "      <td>1</td>\n",
       "      <td>402</td>\n",
       "      <td>2</td>\n",
       "      <td>45</td>\n",
       "      <td>161.248474</td>\n",
       "      <td>132.057012</td>\n",
       "    </tr>\n",
       "    <tr>\n",
       "      <th>391</th>\n",
       "      <td>2011</td>\n",
       "      <td>1.000</td>\n",
       "      <td>6</td>\n",
       "      <td>304</td>\n",
       "      <td>1</td>\n",
       "      <td>32</td>\n",
       "      <td>1.000000</td>\n",
       "      <td>3.951403</td>\n",
       "    </tr>\n",
       "    <tr>\n",
       "      <th>3159</th>\n",
       "      <td>2002</td>\n",
       "      <td>7.000</td>\n",
       "      <td>22</td>\n",
       "      <td>378</td>\n",
       "      <td>1</td>\n",
       "      <td>1</td>\n",
       "      <td>5.683333</td>\n",
       "      <td>1.064575</td>\n",
       "    </tr>\n",
       "    <tr>\n",
       "      <th>519</th>\n",
       "      <td>2004</td>\n",
       "      <td>27.000</td>\n",
       "      <td>9</td>\n",
       "      <td>10</td>\n",
       "      <td>2</td>\n",
       "      <td>4</td>\n",
       "      <td>8.720000</td>\n",
       "      <td>20.192814</td>\n",
       "    </tr>\n",
       "    <tr>\n",
       "      <th>1916</th>\n",
       "      <td>2009</td>\n",
       "      <td>1.000</td>\n",
       "      <td>12</td>\n",
       "      <td>387</td>\n",
       "      <td>1</td>\n",
       "      <td>45</td>\n",
       "      <td>1.000000</td>\n",
       "      <td>1.064575</td>\n",
       "    </tr>\n",
       "  </tbody>\n",
       "</table>\n",
       "</div>"
      ],
      "text/plain": [
       "      Crop_Year     Area  State_Name  District_Name  Season  Crop  production  \\\n",
       "66         2007  197.875           1            402       2    45  161.248474   \n",
       "391        2011    1.000           6            304       1    32    1.000000   \n",
       "3159       2002    7.000          22            378       1     1    5.683333   \n",
       "519        2004   27.000           9             10       2     4    8.720000   \n",
       "1916       2009    1.000          12            387       1    45    1.000000   \n",
       "\n",
       "       Predicted  \n",
       "66    132.057012  \n",
       "391     3.951403  \n",
       "3159    1.064575  \n",
       "519    20.192814  \n",
       "1916    1.064575  "
      ]
     },
     "execution_count": 29,
     "metadata": {},
     "output_type": "execute_result"
    }
   ],
   "source": [
    "train['Predicted']=dt.predict(X_train)  #model=dt\n",
    "train.head()"
   ]
  },
  {
   "cell_type": "code",
   "execution_count": 30,
   "id": "934914cb",
   "metadata": {},
   "outputs": [
    {
     "name": "stdout",
     "output_type": "stream",
     "text": [
      "Train Accuracy 0.5104488612357104\n"
     ]
    }
   ],
   "source": [
    "from sklearn.metrics import r2_score\n",
    "r = r2_score(train['Predicted'],train['production'])\n",
    "print('Train Accuracy',r)"
   ]
  },
  {
   "cell_type": "markdown",
   "id": "00a442c0",
   "metadata": {},
   "source": [
    "### 8.2 Predictions on test data"
   ]
  },
  {
   "cell_type": "code",
   "execution_count": 31,
   "id": "dc054467",
   "metadata": {},
   "outputs": [
    {
     "data": {
      "text/html": [
       "<div>\n",
       "<style scoped>\n",
       "    .dataframe tbody tr th:only-of-type {\n",
       "        vertical-align: middle;\n",
       "    }\n",
       "\n",
       "    .dataframe tbody tr th {\n",
       "        vertical-align: top;\n",
       "    }\n",
       "\n",
       "    .dataframe thead th {\n",
       "        text-align: right;\n",
       "    }\n",
       "</style>\n",
       "<table border=\"1\" class=\"dataframe\">\n",
       "  <thead>\n",
       "    <tr style=\"text-align: right;\">\n",
       "      <th></th>\n",
       "      <th>Crop_Year</th>\n",
       "      <th>Area</th>\n",
       "      <th>State_Name</th>\n",
       "      <th>District_Name</th>\n",
       "      <th>Season</th>\n",
       "      <th>Crop</th>\n",
       "      <th>production</th>\n",
       "      <th>Predicted</th>\n",
       "    </tr>\n",
       "  </thead>\n",
       "  <tbody>\n",
       "    <tr>\n",
       "      <th>987</th>\n",
       "      <td>2005</td>\n",
       "      <td>197.875</td>\n",
       "      <td>9</td>\n",
       "      <td>177</td>\n",
       "      <td>2</td>\n",
       "      <td>18</td>\n",
       "      <td>49.950000</td>\n",
       "      <td>140.792580</td>\n",
       "    </tr>\n",
       "    <tr>\n",
       "      <th>3346</th>\n",
       "      <td>2011</td>\n",
       "      <td>5.000</td>\n",
       "      <td>23</td>\n",
       "      <td>322</td>\n",
       "      <td>1</td>\n",
       "      <td>55</td>\n",
       "      <td>2.875000</td>\n",
       "      <td>1.064575</td>\n",
       "    </tr>\n",
       "    <tr>\n",
       "      <th>2044</th>\n",
       "      <td>2014</td>\n",
       "      <td>4.000</td>\n",
       "      <td>13</td>\n",
       "      <td>207</td>\n",
       "      <td>4</td>\n",
       "      <td>30</td>\n",
       "      <td>0.936738</td>\n",
       "      <td>11.970760</td>\n",
       "    </tr>\n",
       "    <tr>\n",
       "      <th>866</th>\n",
       "      <td>2004</td>\n",
       "      <td>72.000</td>\n",
       "      <td>9</td>\n",
       "      <td>165</td>\n",
       "      <td>1</td>\n",
       "      <td>27</td>\n",
       "      <td>43.048333</td>\n",
       "      <td>34.911964</td>\n",
       "    </tr>\n",
       "    <tr>\n",
       "      <th>1026</th>\n",
       "      <td>2010</td>\n",
       "      <td>14.000</td>\n",
       "      <td>9</td>\n",
       "      <td>177</td>\n",
       "      <td>1</td>\n",
       "      <td>30</td>\n",
       "      <td>1.100000</td>\n",
       "      <td>7.486405</td>\n",
       "    </tr>\n",
       "  </tbody>\n",
       "</table>\n",
       "</div>"
      ],
      "text/plain": [
       "      Crop_Year     Area  State_Name  District_Name  Season  Crop  production  \\\n",
       "987        2005  197.875           9            177       2    18   49.950000   \n",
       "3346       2011    5.000          23            322       1    55    2.875000   \n",
       "2044       2014    4.000          13            207       4    30    0.936738   \n",
       "866        2004   72.000           9            165       1    27   43.048333   \n",
       "1026       2010   14.000           9            177       1    30    1.100000   \n",
       "\n",
       "       Predicted  \n",
       "987   140.792580  \n",
       "3346    1.064575  \n",
       "2044   11.970760  \n",
       "866    34.911964  \n",
       "1026    7.486405  "
      ]
     },
     "execution_count": 31,
     "metadata": {},
     "output_type": "execute_result"
    }
   ],
   "source": [
    "test['Predicted']=dt.predict(X_test)\n",
    "test.head()"
   ]
  },
  {
   "cell_type": "code",
   "execution_count": 32,
   "id": "6294260e",
   "metadata": {
    "scrolled": true
   },
   "outputs": [
    {
     "name": "stdout",
     "output_type": "stream",
     "text": [
      "Test Accuracy 0.5300578204606046\n"
     ]
    }
   ],
   "source": [
    "from sklearn.metrics import r2_score\n",
    "r = r2_score(test['Predicted'],test['production'])\n",
    "print('Test Accuracy',r)"
   ]
  },
  {
   "cell_type": "markdown",
   "id": "db765a4d",
   "metadata": {},
   "source": [
    "###### In Decision Tree Regressor GridSearchCV Best Estimator Model We got the Train Accuracy: 0.5104488612357104 and Test Accuracy: 0.5300578204606046"
   ]
  },
  {
   "cell_type": "markdown",
   "id": "91675331",
   "metadata": {},
   "source": [
    "### 8.3 Save the XGBoost Model For Deployment "
   ]
  },
  {
   "cell_type": "code",
   "execution_count": 33,
   "id": "3c62ef79",
   "metadata": {},
   "outputs": [],
   "source": [
    "import os\n",
    "os.chdir(r\"D:\\Shriraj\\Master Thesis\\New Code\\New folder\\Crop Yeild-20230318T151143Z-001\\Crop Yeild\")"
   ]
  },
  {
   "cell_type": "code",
   "execution_count": 34,
   "id": "b19d15e4",
   "metadata": {},
   "outputs": [],
   "source": [
    "import pickle\n",
    "pickle.dump(dt, open('xgboost.pkl','wb'))"
   ]
  },
  {
   "cell_type": "code",
   "execution_count": 35,
   "id": "13d740f6",
   "metadata": {},
   "outputs": [],
   "source": [
    "model = pickle.load(open('xgboost.pkl','rb'))"
   ]
  },
  {
   "cell_type": "markdown",
   "id": "17cb608b",
   "metadata": {},
   "source": [
    "### 9. XG Boost Model"
   ]
  },
  {
   "cell_type": "markdown",
   "id": "f900486d",
   "metadata": {},
   "source": [
    "###### XGBoost minimizes a regularized (L1 and L2) objective function that combines a convex loss function (based on the difference between the predicted and target outputs) and a penalty term for model complexity.Xgboost is a gradient boosting library. It provides parallel boosting trees algorithm that can solve Machine Learning tasks.One of the key advantages of XGBoost is its ability to handle missing data and large datasets efficiently. It also has a number of hyperparameters that can be tuned to improve model performance, including the learning rate, depth of the trees, and regularization parameters."
   ]
  },
  {
   "cell_type": "markdown",
   "id": "080dfe43",
   "metadata": {},
   "source": [
    "### 9.1 Test_1"
   ]
  },
  {
   "cell_type": "code",
   "execution_count": 36,
   "id": "84211fea",
   "metadata": {},
   "outputs": [],
   "source": [
    "# Define Model parameters to tune\n",
    "model_parameters = { \n",
    "        'n_estimators':[10, 50, 100, 200, 500],  # number of trees\n",
    "        'max_depth': [3, 5, 10],                 # maximum number of branches in each tree \n",
    "        'min_samples_leaf': [10,5,15]            # minimum number of Sample in each child node or leaf \n",
    "                  }"
   ]
  },
  {
   "cell_type": "code",
   "execution_count": 37,
   "id": "83e78e64",
   "metadata": {},
   "outputs": [],
   "source": [
    "from xgboost.sklearn import XGBRegressor"
   ]
  },
  {
   "cell_type": "code",
   "execution_count": 38,
   "id": "1d824545",
   "metadata": {},
   "outputs": [
    {
     "name": "stdout",
     "output_type": "stream",
     "text": [
      "Fitting 5 folds for each of 45 candidates, totalling 225 fits\n",
      "[16:53:01] WARNING: C:\\Windows\\Temp\\abs_557yfx631l\\croots\\recipe\\xgboost-split_1659548953302\\work\\src\\learner.cc:576: \n",
      "Parameters: { \"min_samples_leaf\" } might not be used.\n",
      "\n",
      "  This could be a false alarm, with some parameters getting used by language bindings but\n",
      "  then being mistakenly passed down to XGBoost core, or some parameter actually being used\n",
      "  but getting flagged wrongly here. Please open an issue if you find any such cases.\n",
      "\n",
      "\n"
     ]
    },
    {
     "data": {
      "text/plain": [
       "GridSearchCV(cv=5,\n",
       "             estimator=XGBRegressor(base_score=None, booster=None,\n",
       "                                    colsample_bylevel=None,\n",
       "                                    colsample_bynode=None,\n",
       "                                    colsample_bytree=None,\n",
       "                                    enable_categorical=False, gamma=None,\n",
       "                                    gpu_id=None, importance_type=None,\n",
       "                                    interaction_constraints=None,\n",
       "                                    learning_rate=None, max_delta_step=None,\n",
       "                                    max_depth=None, min_child_weight=None,\n",
       "                                    missing=nan, monotone_constraints=None,\n",
       "                                    n...ors=100, n_jobs=None,\n",
       "                                    num_parallel_tree=None, predictor=None,\n",
       "                                    random_state=None, reg_alpha=None,\n",
       "                                    reg_lambda=0, scale_pos_weight=None,\n",
       "                                    subsample=None, tree_method=None,\n",
       "                                    validate_parameters=None, verbosity=None),\n",
       "             n_jobs=-1,\n",
       "             param_grid={'max_depth': [3, 5, 10],\n",
       "                         'min_samples_leaf': [10, 5, 15],\n",
       "                         'n_estimators': [10, 50, 100, 200, 500]},\n",
       "             scoring='neg_mean_squared_error', verbose=1)"
      ]
     },
     "execution_count": 38,
     "metadata": {},
     "output_type": "execute_result"
    }
   ],
   "source": [
    "model = XGBRegressor(reg_lambda=0)   # Lamda = 0 \n",
    "gscv = GridSearchCV(estimator=model, \n",
    "                    param_grid=model_parameters, \n",
    "                    cv=5, \n",
    "                    verbose=1, \n",
    "                    n_jobs=-1,\n",
    "                    scoring='neg_mean_squared_error')\n",
    "\n",
    "gscv.fit(X_train, y_train)  ## Model building"
   ]
  },
  {
   "cell_type": "code",
   "execution_count": 39,
   "id": "5f71cf26",
   "metadata": {},
   "outputs": [
    {
     "name": "stdout",
     "output_type": "stream",
     "text": [
      "[16:53:01] WARNING: C:\\Windows\\Temp\\abs_557yfx631l\\croots\\recipe\\xgboost-split_1659548953302\\work\\src\\learner.cc:576: \n",
      "Parameters: { \"min_samples_leaf\" } might not be used.\n",
      "\n",
      "  This could be a false alarm, with some parameters getting used by language bindings but\n",
      "  then being mistakenly passed down to XGBoost core, or some parameter actually being used\n",
      "  but getting flagged wrongly here. Please open an issue if you find any such cases.\n",
      "\n",
      "\n"
     ]
    },
    {
     "data": {
      "text/plain": [
       "XGBRegressor(base_score=0.5, booster='gbtree', colsample_bylevel=1,\n",
       "             colsample_bynode=1, colsample_bytree=1, enable_categorical=False,\n",
       "             gamma=0, gpu_id=-1, importance_type=None,\n",
       "             interaction_constraints='', learning_rate=0.300000012,\n",
       "             max_delta_step=0, max_depth=5, min_child_weight=1,\n",
       "             min_samples_leaf=10, missing=nan, monotone_constraints='()',\n",
       "             n_estimators=100, n_jobs=4, num_parallel_tree=1, predictor='auto',\n",
       "             random_state=0, reg_alpha=0, reg_lambda=1, scale_pos_weight=1,\n",
       "             subsample=1, tree_method='exact', validate_parameters=1,\n",
       "             verbosity=None)"
      ]
     },
     "execution_count": 39,
     "metadata": {},
     "output_type": "execute_result"
    }
   ],
   "source": [
    "# Re-fit the model with the best parameters\n",
    "final_mod = XGBRegressor(**gscv.best_params_)\n",
    "final_mod.fit(X_train, y_train)"
   ]
  },
  {
   "cell_type": "markdown",
   "id": "b8661e15",
   "metadata": {},
   "source": [
    "### 9.1.1 Predictions on train data"
   ]
  },
  {
   "cell_type": "code",
   "execution_count": 40,
   "id": "c1672d79",
   "metadata": {},
   "outputs": [],
   "source": [
    "#Prediction\n",
    "train_pred = final_mod.predict(X_train)\n",
    "test_pred = final_mod.predict(X_test)"
   ]
  },
  {
   "cell_type": "code",
   "execution_count": 41,
   "id": "3dbab330",
   "metadata": {},
   "outputs": [
    {
     "name": "stdout",
     "output_type": "stream",
     "text": [
      "Train Accuracy 0.9763499710545065\n"
     ]
    }
   ],
   "source": [
    "from sklearn.metrics import r2_score\n",
    "r = r2_score(y_train,train_pred)\n",
    "print('Train Accuracy',r)"
   ]
  },
  {
   "cell_type": "markdown",
   "id": "fc9cbfa9",
   "metadata": {},
   "source": [
    "### 9.1.2 Predictions on test data"
   ]
  },
  {
   "cell_type": "code",
   "execution_count": 42,
   "id": "83e80620",
   "metadata": {},
   "outputs": [
    {
     "name": "stdout",
     "output_type": "stream",
     "text": [
      "Test Accuracy 0.8421030173386151\n"
     ]
    }
   ],
   "source": [
    "from sklearn.metrics import r2_score\n",
    "r = r2_score(y_test,test_pred)\n",
    "print('Test Accuracy',r)"
   ]
  },
  {
   "cell_type": "markdown",
   "id": "41232999",
   "metadata": {},
   "source": [
    "###### In Test_1 of XGBoost Model We got the Train Accuracy: 0.9763499710545065 and Test Accuracy: 0.8421030173386151"
   ]
  },
  {
   "cell_type": "markdown",
   "id": "fe84c3be",
   "metadata": {},
   "source": [
    "### 9.2 Test_2"
   ]
  },
  {
   "cell_type": "code",
   "execution_count": 43,
   "id": "bc5d39b8",
   "metadata": {},
   "outputs": [],
   "source": [
    "# Define Model parameters to tune\n",
    "model_parameters = { \n",
    "        'n_estimators':[40, 60, 230, 60, 180],  # number of trees\n",
    "        'max_depth': [2,4,15],                 # maximum number of branches in each tree \n",
    "        'min_samples_leaf': [3,20,9]            # minimum number of Sample in each child node or leaf \n",
    "                  }"
   ]
  },
  {
   "cell_type": "code",
   "execution_count": 44,
   "id": "5479ae30",
   "metadata": {},
   "outputs": [],
   "source": [
    "from xgboost.sklearn import XGBRegressor"
   ]
  },
  {
   "cell_type": "code",
   "execution_count": 45,
   "id": "975c3b16",
   "metadata": {},
   "outputs": [
    {
     "name": "stdout",
     "output_type": "stream",
     "text": [
      "Fitting 5 folds for each of 45 candidates, totalling 225 fits\n",
      "[16:53:27] WARNING: C:\\Windows\\Temp\\abs_557yfx631l\\croots\\recipe\\xgboost-split_1659548953302\\work\\src\\learner.cc:576: \n",
      "Parameters: { \"min_samples_leaf\" } might not be used.\n",
      "\n",
      "  This could be a false alarm, with some parameters getting used by language bindings but\n",
      "  then being mistakenly passed down to XGBoost core, or some parameter actually being used\n",
      "  but getting flagged wrongly here. Please open an issue if you find any such cases.\n",
      "\n",
      "\n"
     ]
    },
    {
     "data": {
      "text/plain": [
       "GridSearchCV(cv=5,\n",
       "             estimator=XGBRegressor(base_score=None, booster=None,\n",
       "                                    colsample_bylevel=None,\n",
       "                                    colsample_bynode=None,\n",
       "                                    colsample_bytree=None,\n",
       "                                    enable_categorical=False, gamma=None,\n",
       "                                    gpu_id=None, importance_type=None,\n",
       "                                    interaction_constraints=None,\n",
       "                                    learning_rate=None, max_delta_step=None,\n",
       "                                    max_depth=None, min_child_weight=None,\n",
       "                                    missing=nan, monotone_constraints=None,\n",
       "                                    n...ators=100, n_jobs=None,\n",
       "                                    num_parallel_tree=None, predictor=None,\n",
       "                                    random_state=None, reg_alpha=None,\n",
       "                                    reg_lambda=0, scale_pos_weight=None,\n",
       "                                    subsample=None, tree_method=None,\n",
       "                                    validate_parameters=None, verbosity=None),\n",
       "             n_jobs=-1,\n",
       "             param_grid={'max_depth': [2, 4, 15],\n",
       "                         'min_samples_leaf': [3, 20, 9],\n",
       "                         'n_estimators': [40, 60, 230, 60, 180]},\n",
       "             scoring='neg_mean_squared_error', verbose=1)"
      ]
     },
     "execution_count": 45,
     "metadata": {},
     "output_type": "execute_result"
    }
   ],
   "source": [
    "model = XGBRegressor(reg_lambda=0)   # Lamda = 0 \n",
    "gscv = GridSearchCV(estimator=model, \n",
    "                    param_grid=model_parameters, \n",
    "                    cv=5, \n",
    "                    verbose=1, \n",
    "                    n_jobs=-1,\n",
    "                    scoring='neg_mean_squared_error')\n",
    "\n",
    "gscv.fit(X_train, y_train)  ## Model building"
   ]
  },
  {
   "cell_type": "code",
   "execution_count": 46,
   "id": "d8a30fcb",
   "metadata": {},
   "outputs": [
    {
     "name": "stdout",
     "output_type": "stream",
     "text": [
      "[16:53:28] WARNING: C:\\Windows\\Temp\\abs_557yfx631l\\croots\\recipe\\xgboost-split_1659548953302\\work\\src\\learner.cc:576: \n",
      "Parameters: { \"min_samples_leaf\" } might not be used.\n",
      "\n",
      "  This could be a false alarm, with some parameters getting used by language bindings but\n",
      "  then being mistakenly passed down to XGBoost core, or some parameter actually being used\n",
      "  but getting flagged wrongly here. Please open an issue if you find any such cases.\n",
      "\n",
      "\n"
     ]
    },
    {
     "data": {
      "text/plain": [
       "XGBRegressor(base_score=0.5, booster='gbtree', colsample_bylevel=1,\n",
       "             colsample_bynode=1, colsample_bytree=1, enable_categorical=False,\n",
       "             gamma=0, gpu_id=-1, importance_type=None,\n",
       "             interaction_constraints='', learning_rate=0.300000012,\n",
       "             max_delta_step=0, max_depth=4, min_child_weight=1,\n",
       "             min_samples_leaf=3, missing=nan, monotone_constraints='()',\n",
       "             n_estimators=230, n_jobs=4, num_parallel_tree=1, predictor='auto',\n",
       "             random_state=0, reg_alpha=0, reg_lambda=1, scale_pos_weight=1,\n",
       "             subsample=1, tree_method='exact', validate_parameters=1,\n",
       "             verbosity=None)"
      ]
     },
     "execution_count": 46,
     "metadata": {},
     "output_type": "execute_result"
    }
   ],
   "source": [
    "# Re-fit the model with the best parameters\n",
    "final_mod2 = XGBRegressor(**gscv.best_params_)\n",
    "final_mod2.fit(X_train, y_train)"
   ]
  },
  {
   "cell_type": "markdown",
   "id": "5d37e445",
   "metadata": {},
   "source": [
    "### 9.2.1 Predictions on train and test data"
   ]
  },
  {
   "cell_type": "code",
   "execution_count": 47,
   "id": "54891a5c",
   "metadata": {},
   "outputs": [],
   "source": [
    "#Prediction\n",
    "train_pred = final_mod2.predict(X_train)\n",
    "test_pred = final_mod2.predict(X_test)"
   ]
  },
  {
   "cell_type": "code",
   "execution_count": 48,
   "id": "f822b748",
   "metadata": {},
   "outputs": [
    {
     "name": "stdout",
     "output_type": "stream",
     "text": [
      "Train Accuracy 0.9752323334437393\n"
     ]
    }
   ],
   "source": [
    "from sklearn.metrics import r2_score\n",
    "r = r2_score(y_train,train_pred)\n",
    "print('Train Accuracy',r)"
   ]
  },
  {
   "cell_type": "code",
   "execution_count": 49,
   "id": "1f753aaa",
   "metadata": {},
   "outputs": [
    {
     "name": "stdout",
     "output_type": "stream",
     "text": [
      "Test Accuracy 0.857089543559731\n"
     ]
    }
   ],
   "source": [
    "from sklearn.metrics import r2_score\n",
    "r = r2_score(y_test,test_pred)\n",
    "print('Test Accuracy',r)"
   ]
  },
  {
   "cell_type": "markdown",
   "id": "9933cab4",
   "metadata": {},
   "source": [
    "###### In Test_2 of XGBoost Model We got the Train Accuracy: 0.9752323334437393 and Test Accuracy: 0.857089543559731"
   ]
  },
  {
   "cell_type": "markdown",
   "id": "d534bb64",
   "metadata": {},
   "source": [
    "### 9.3 Test_3"
   ]
  },
  {
   "cell_type": "code",
   "execution_count": 50,
   "id": "98826901",
   "metadata": {},
   "outputs": [],
   "source": [
    "# Define Model parameters to tune\n",
    "model_parameters = { \n",
    "        'n_estimators':[40, 80, 150, 200, 250],  # number of trees\n",
    "        'max_depth': [10,25,30],                 # maximum number of branches in each tree \n",
    "        'min_samples_leaf': [5,15,25]            # minimum number of Sample in each child node or leaf \n",
    "                  }"
   ]
  },
  {
   "cell_type": "code",
   "execution_count": 51,
   "id": "55ecd505",
   "metadata": {},
   "outputs": [
    {
     "name": "stdout",
     "output_type": "stream",
     "text": [
      "Fitting 5 folds for each of 45 candidates, totalling 225 fits\n",
      "[16:54:25] WARNING: C:\\Windows\\Temp\\abs_557yfx631l\\croots\\recipe\\xgboost-split_1659548953302\\work\\src\\learner.cc:576: \n",
      "Parameters: { \"min_samples_leaf\" } might not be used.\n",
      "\n",
      "  This could be a false alarm, with some parameters getting used by language bindings but\n",
      "  then being mistakenly passed down to XGBoost core, or some parameter actually being used\n",
      "  but getting flagged wrongly here. Please open an issue if you find any such cases.\n",
      "\n",
      "\n"
     ]
    },
    {
     "data": {
      "text/plain": [
       "GridSearchCV(cv=5,\n",
       "             estimator=XGBRegressor(base_score=None, booster=None,\n",
       "                                    colsample_bylevel=None,\n",
       "                                    colsample_bynode=None,\n",
       "                                    colsample_bytree=None,\n",
       "                                    enable_categorical=False, gamma=None,\n",
       "                                    gpu_id=None, importance_type=None,\n",
       "                                    interaction_constraints=None,\n",
       "                                    learning_rate=None, max_delta_step=None,\n",
       "                                    max_depth=None, min_child_weight=None,\n",
       "                                    missing=nan, monotone_constraints=None,\n",
       "                                    n...s=100, n_jobs=None,\n",
       "                                    num_parallel_tree=None, predictor=None,\n",
       "                                    random_state=None, reg_alpha=None,\n",
       "                                    reg_lambda=0, scale_pos_weight=None,\n",
       "                                    subsample=None, tree_method=None,\n",
       "                                    validate_parameters=None, verbosity=None),\n",
       "             n_jobs=-1,\n",
       "             param_grid={'max_depth': [10, 25, 30],\n",
       "                         'min_samples_leaf': [5, 15, 25],\n",
       "                         'n_estimators': [40, 80, 150, 200, 250]},\n",
       "             scoring='neg_mean_squared_error', verbose=1)"
      ]
     },
     "execution_count": 51,
     "metadata": {},
     "output_type": "execute_result"
    }
   ],
   "source": [
    "model = XGBRegressor(reg_lambda=0)   # Lamda = 0 \n",
    "gscv = GridSearchCV(estimator=model, \n",
    "                    param_grid=model_parameters, \n",
    "                    cv=5, \n",
    "                    verbose=1, \n",
    "                    n_jobs=-1,\n",
    "                    scoring='neg_mean_squared_error')\n",
    "\n",
    "gscv.fit(X_train, y_train)  ## Model building"
   ]
  },
  {
   "cell_type": "code",
   "execution_count": 52,
   "id": "0bfdedb1",
   "metadata": {},
   "outputs": [
    {
     "name": "stdout",
     "output_type": "stream",
     "text": [
      "[16:54:26] WARNING: C:\\Windows\\Temp\\abs_557yfx631l\\croots\\recipe\\xgboost-split_1659548953302\\work\\src\\learner.cc:576: \n",
      "Parameters: { \"min_samples_leaf\" } might not be used.\n",
      "\n",
      "  This could be a false alarm, with some parameters getting used by language bindings but\n",
      "  then being mistakenly passed down to XGBoost core, or some parameter actually being used\n",
      "  but getting flagged wrongly here. Please open an issue if you find any such cases.\n",
      "\n",
      "\n"
     ]
    },
    {
     "data": {
      "text/plain": [
       "XGBRegressor(base_score=0.5, booster='gbtree', colsample_bylevel=1,\n",
       "             colsample_bynode=1, colsample_bytree=1, enable_categorical=False,\n",
       "             gamma=0, gpu_id=-1, importance_type=None,\n",
       "             interaction_constraints='', learning_rate=0.300000012,\n",
       "             max_delta_step=0, max_depth=10, min_child_weight=1,\n",
       "             min_samples_leaf=5, missing=nan, monotone_constraints='()',\n",
       "             n_estimators=40, n_jobs=4, num_parallel_tree=1, predictor='auto',\n",
       "             random_state=0, reg_alpha=0, reg_lambda=1, scale_pos_weight=1,\n",
       "             subsample=1, tree_method='exact', validate_parameters=1,\n",
       "             verbosity=None)"
      ]
     },
     "execution_count": 52,
     "metadata": {},
     "output_type": "execute_result"
    }
   ],
   "source": [
    "# Re-fit the model with the best parameters\n",
    "final_mod3 = XGBRegressor(**gscv.best_params_)\n",
    "final_mod3.fit(X_train, y_train)"
   ]
  },
  {
   "cell_type": "markdown",
   "id": "4618d94d",
   "metadata": {},
   "source": [
    "### 9.3.1 Predictions on train and test data"
   ]
  },
  {
   "cell_type": "code",
   "execution_count": 53,
   "id": "7b0406b1",
   "metadata": {},
   "outputs": [],
   "source": [
    "#Prediction\n",
    "train_pred = final_mod3.predict(X_train)\n",
    "test_pred = final_mod3.predict(X_test)"
   ]
  },
  {
   "cell_type": "code",
   "execution_count": 54,
   "id": "c1206fdf",
   "metadata": {},
   "outputs": [
    {
     "name": "stdout",
     "output_type": "stream",
     "text": [
      "Train Accuracy 0.9996372290423005\n"
     ]
    }
   ],
   "source": [
    "from sklearn.metrics import r2_score\n",
    "r = r2_score(y_train,train_pred)\n",
    "print('Train Accuracy',r)"
   ]
  },
  {
   "cell_type": "code",
   "execution_count": 55,
   "id": "8d111e50",
   "metadata": {},
   "outputs": [
    {
     "name": "stdout",
     "output_type": "stream",
     "text": [
      "Test Accuracy 0.8305143658922132\n"
     ]
    }
   ],
   "source": [
    "from sklearn.metrics import r2_score\n",
    "r = r2_score(y_test,test_pred)\n",
    "print('Test Accuracy',r)"
   ]
  },
  {
   "cell_type": "markdown",
   "id": "a9299970",
   "metadata": {},
   "source": [
    "###### In Test_3 of XGBoost Model We got the Train Accuracy 0.9996372290423005 and Test Accuracy 0.8305143658922132."
   ]
  },
  {
   "cell_type": "markdown",
   "id": "d745fda1",
   "metadata": {},
   "source": [
    "### 10. Save the model"
   ]
  },
  {
   "cell_type": "code",
   "execution_count": 56,
   "id": "331356f0",
   "metadata": {},
   "outputs": [],
   "source": [
    "import os\n",
    "os.chdir(r\"D:\\Shriraj\\Master Thesis\\New Code\\New folder\\Crop Yeild-20230318T151143Z-001\\Crop Yeild\")"
   ]
  },
  {
   "cell_type": "code",
   "execution_count": 57,
   "id": "4f94d124",
   "metadata": {},
   "outputs": [],
   "source": [
    "import pickle\n",
    "pickle.dump(final_mod2, open('xgboost.pkl','wb'))"
   ]
  },
  {
   "cell_type": "code",
   "execution_count": 58,
   "id": "1ac2f751",
   "metadata": {},
   "outputs": [],
   "source": [
    "model = pickle.load(open('xgboost.pkl','rb'))"
   ]
  },
  {
   "cell_type": "markdown",
   "id": "644272cb",
   "metadata": {},
   "source": [
    "### 11. Comparison of  The Three Train and Test of XGBoost Model"
   ]
  },
  {
   "cell_type": "markdown",
   "id": "7116829f",
   "metadata": {},
   "source": [
    "### 11.1 Outputs"
   ]
  },
  {
   "cell_type": "code",
   "execution_count": 59,
   "id": "74d790bd",
   "metadata": {},
   "outputs": [
    {
     "data": {
      "text/html": [
       "<div>\n",
       "<style scoped>\n",
       "    .dataframe tbody tr th:only-of-type {\n",
       "        vertical-align: middle;\n",
       "    }\n",
       "\n",
       "    .dataframe tbody tr th {\n",
       "        vertical-align: top;\n",
       "    }\n",
       "\n",
       "    .dataframe thead th {\n",
       "        text-align: right;\n",
       "    }\n",
       "</style>\n",
       "<table border=\"1\" class=\"dataframe\">\n",
       "  <thead>\n",
       "    <tr style=\"text-align: right;\">\n",
       "      <th></th>\n",
       "      <th>Train</th>\n",
       "      <th>Test</th>\n",
       "    </tr>\n",
       "  </thead>\n",
       "  <tbody>\n",
       "    <tr>\n",
       "      <th>0</th>\n",
       "      <td>97</td>\n",
       "      <td>84</td>\n",
       "    </tr>\n",
       "    <tr>\n",
       "      <th>1</th>\n",
       "      <td>98</td>\n",
       "      <td>85</td>\n",
       "    </tr>\n",
       "    <tr>\n",
       "      <th>2</th>\n",
       "      <td>99</td>\n",
       "      <td>83</td>\n",
       "    </tr>\n",
       "  </tbody>\n",
       "</table>\n",
       "</div>"
      ],
      "text/plain": [
       "   Train  Test\n",
       "0     97    84\n",
       "1     98    85\n",
       "2     99    83"
      ]
     },
     "execution_count": 59,
     "metadata": {},
     "output_type": "execute_result"
    }
   ],
   "source": [
    "import pandas as pd\n",
    "\n",
    "data={'Train':[97,98,99],'Test':[84,85,83]}\n",
    "\n",
    "df=pd.DataFrame(data)\n",
    "\n",
    "df #print the dataframe"
   ]
  },
  {
   "cell_type": "markdown",
   "id": "8041bcec",
   "metadata": {},
   "source": [
    "###### As per above 3 tests We got the highest accuracy in Test_2 and Test_3 but in between Test_2 and Test_3 highest accuracy will be Test_3 of XGBoost Model which is Train Accuracy: 99% and Test Accuracy: 85%."
   ]
  },
  {
   "cell_type": "markdown",
   "id": "a10b0b0a",
   "metadata": {},
   "source": [
    "\n",
    "### 11.2 Outputs in graphical format"
   ]
  },
  {
   "cell_type": "code",
   "execution_count": 60,
   "id": "61b5d876",
   "metadata": {},
   "outputs": [
    {
     "data": {
      "text/plain": [
       "Text(0, 0.5, 'Accuracy')"
      ]
     },
     "execution_count": 60,
     "metadata": {},
     "output_type": "execute_result"
    },
    {
     "data": {
      "image/png": "[encoded data removed]",
      "text/plain": [
       "<Figure size 1500x800 with 1 Axes>"
      ]
     },
     "metadata": {},
     "output_type": "display_data"
    }
   ],
   "source": [
    "plotdata = pd.DataFrame({'Train':[97,97,99],\n",
    "                         'Test' : [84,85,83]\n",
    "                         },\n",
    "    index=['Test_1','Test_2','Test_3'])\n",
    "\n",
    "plotdata.plot(kind=\"bar\",figsize=(15, 8))\n",
    "\n",
    "plt.title(\"Comparison Of Model\")\n",
    "\n",
    "plt.xlabel(\"Algorithms\") \n",
    "plt.ylabel(\"Accuracy\") "
   ]
  },
  {
   "cell_type": "markdown",
   "id": "c5a43b06",
   "metadata": {},
   "source": [
    "#### From above graph it is clearly seen that we are getting the best accuracy on test data of 85%, SO we will move further with test-2"
   ]
  },
  {
   "cell_type": "markdown",
   "id": "d1cbbce8",
   "metadata": {},
   "source": [
    "### 12. Comparison Of Decision Tree and XGBoost Models"
   ]
  },
  {
   "cell_type": "markdown",
   "id": "58025e11",
   "metadata": {},
   "source": [
    "### 12.1 Outputs[Deployment]"
   ]
  },
  {
   "cell_type": "code",
   "execution_count": 61,
   "id": "b81041bf",
   "metadata": {},
   "outputs": [
    {
     "data": {
      "text/html": [
       "<div>\n",
       "<style scoped>\n",
       "    .dataframe tbody tr th:only-of-type {\n",
       "        vertical-align: middle;\n",
       "    }\n",
       "\n",
       "    .dataframe tbody tr th {\n",
       "        vertical-align: top;\n",
       "    }\n",
       "\n",
       "    .dataframe thead th {\n",
       "        text-align: right;\n",
       "    }\n",
       "</style>\n",
       "<table border=\"1\" class=\"dataframe\">\n",
       "  <thead>\n",
       "    <tr style=\"text-align: right;\">\n",
       "      <th></th>\n",
       "      <th>Decision Tree</th>\n",
       "      <th>XGBoost</th>\n",
       "    </tr>\n",
       "  </thead>\n",
       "  <tbody>\n",
       "    <tr>\n",
       "      <th>0</th>\n",
       "      <td>110</td>\n",
       "      <td>130</td>\n",
       "    </tr>\n",
       "    <tr>\n",
       "      <th>1</th>\n",
       "      <td>70</td>\n",
       "      <td>116</td>\n",
       "    </tr>\n",
       "    <tr>\n",
       "      <th>2</th>\n",
       "      <td>134</td>\n",
       "      <td>164</td>\n",
       "    </tr>\n",
       "    <tr>\n",
       "      <th>3</th>\n",
       "      <td>68</td>\n",
       "      <td>76</td>\n",
       "    </tr>\n",
       "    <tr>\n",
       "      <th>4</th>\n",
       "      <td>146</td>\n",
       "      <td>140</td>\n",
       "    </tr>\n",
       "  </tbody>\n",
       "</table>\n",
       "</div>"
      ],
      "text/plain": [
       "   Decision Tree  XGBoost\n",
       "0            110      130\n",
       "1             70      116\n",
       "2            134      164\n",
       "3             68       76\n",
       "4            146      140"
      ]
     },
     "execution_count": 61,
     "metadata": {},
     "output_type": "execute_result"
    }
   ],
   "source": [
    "import pandas as pd\n",
    "\n",
    "data={'Decision Tree':[110,70,134,68,146],'XGBoost':[130,116,164,76,140]}\n",
    "\n",
    "df=pd.DataFrame(data)\n",
    "\n",
    "df #print the dataframe"
   ]
  },
  {
   "cell_type": "markdown",
   "id": "179ce30c",
   "metadata": {},
   "source": [
    "###### In this project I have made GUI for both model. The XGBoost Model and Decision Tree Model deployment results means crop yield prediction shown in below dataframe as well as in graphs. Those values has taken from both model deploments outputs for comparison. In this Deployment results of XGBoost Model is high and Decision Tree Model is less. "
   ]
  },
  {
   "cell_type": "markdown",
   "id": "8696d3f6",
   "metadata": {},
   "source": [
    "### 12.2 Outputs in Graphical format"
   ]
  },
  {
   "cell_type": "code",
   "execution_count": 62,
   "id": "57b95625",
   "metadata": {},
   "outputs": [
    {
     "data": {
      "text/plain": [
       "Text(0, 0.5, 'Accuracy')"
      ]
     },
     "execution_count": 62,
     "metadata": {},
     "output_type": "execute_result"
    },
    {
     "data": {
      "image/png": "[encoded data removed]",
      "text/plain": [
       "<Figure size 1500x800 with 1 Axes>"
      ]
     },
     "metadata": {},
     "output_type": "display_data"
    }
   ],
   "source": [
    "plotdata = pd.DataFrame({'Decision_Tree':[110,70,134,],\n",
    "                         'XGBoost' : [130,116,164,]\n",
    "                         },\n",
    "    index=['Test_1','Test_2','Test_3'])\n",
    "\n",
    "plotdata.plot(kind=\"bar\",figsize=(15, 8))\n",
    "\n",
    "plt.title(\"Comparison Of Model\")\n",
    "\n",
    "plt.xlabel(\"Algorithms\") \n",
    "plt.ylabel(\"Accuracy\")"
   ]
  },
  {
   "cell_type": "markdown",
   "id": "61e776c4",
   "metadata": {},
   "source": [
    "###### In this Every Test Deployment results of XGBoost Model is high and Decision Tree Model is less."
   ]
  },
  {
   "cell_type": "code",
   "execution_count": 63,
   "id": "8269ac01",
   "metadata": {
    "scrolled": false
   },
   "outputs": [
    {
     "data": {
      "text/plain": [
       "Text(0, 0.5, 'Accuracy')"
      ]
     },
     "execution_count": 63,
     "metadata": {},
     "output_type": "execute_result"
    },
    {
     "data": {
      "image/png": "[encoded data removed]",
      "text/plain": [
       "<Figure size 1500x800 with 1 Axes>"
      ]
     },
     "metadata": {},
     "output_type": "display_data"
    }
   ],
   "source": [
    "plotdata = pd.DataFrame({'Decision_Tree':[110,70,134,68,146],\n",
    "                         'XGBoost' : [130,116,164,76,140]\n",
    "                         },\n",
    "    index=['Test_1','Test_2','Test_3','Test_4','Test_5'])\n",
    "\n",
    "plotdata.plot(kind=\"bar\",figsize=(15, 8))\n",
    "\n",
    "plt.title(\"Comparison Of Model\")\n",
    "\n",
    "plt.xlabel(\"Algorithms\") \n",
    "plt.ylabel(\"Accuracy\")"
   ]
  },
  {
   "cell_type": "markdown",
   "id": "646ec34a",
   "metadata": {},
   "source": [
    "#### From the above graph we can conclude that rather than decision tree model, XGBoost model gives us the best accuracy."
   ]
  },
  {
   "cell_type": "markdown",
   "id": "524b8004",
   "metadata": {},
   "source": [
    "### 13. Calculating Approximate Latency for Model"
   ]
  },
  {
   "cell_type": "markdown",
   "id": "effc91e7",
   "metadata": {},
   "source": [
    "###### Latency is a measurement in Machine Learning to determine the performance of various models for a specific application. Latency refers to the time taken to process one unit of data provided only one unit of data is processed at a time."
   ]
  },
  {
   "cell_type": "markdown",
   "id": "063a6c7c",
   "metadata": {},
   "source": [
    "###### Time Library: The Python time module provides many ways of representing time in code, such as objects, numbers, and strings. It also provides functionality other than representing time, like waiting during code execution and measuring the efficiency of your code"
   ]
  },
  {
   "cell_type": "code",
   "execution_count": 64,
   "id": "30011c95",
   "metadata": {},
   "outputs": [],
   "source": [
    "import time"
   ]
  },
  {
   "cell_type": "code",
   "execution_count": 65,
   "id": "7a2e30aa",
   "metadata": {},
   "outputs": [
    {
     "data": {
      "text/plain": [
       "1119"
      ]
     },
     "execution_count": 65,
     "metadata": {},
     "output_type": "execute_result"
    }
   ],
   "source": [
    "# Length of test data\n",
    "l = len(X_test)\n",
    "l"
   ]
  },
  {
   "cell_type": "code",
   "execution_count": 66,
   "id": "3d682f76",
   "metadata": {},
   "outputs": [
    {
     "name": "stdout",
     "output_type": "stream",
     "text": [
      "[0.007998228073120117, 0.0, 0.008004188537597656, 0.0, 0.008007287979125977, 0.008003950119018555, 0.0, 0.00800633430480957, 0.0, 0.00800466537475586]\n"
     ]
    }
   ],
   "source": [
    "# Measuring response time of model \n",
    "pred_time_list=[]\n",
    "for i in range(10): \n",
    "    start = time.time() \n",
    "    result = final_mod3.predict(X_test)\n",
    "    end = time.time()\n",
    "    pred_time_list.append(end-start)\n",
    "print(pred_time_list)"
   ]
  },
  {
   "cell_type": "markdown",
   "id": "b466cb47",
   "metadata": {},
   "source": [
    "###### I measured the response time of our model 10 times for better results. I will now took the average of all the 10 response times and will divide it by length of test data in order to get response time for a particular input."
   ]
  },
  {
   "cell_type": "code",
   "execution_count": 67,
   "id": "ef76e391",
   "metadata": {},
   "outputs": [],
   "source": [
    "# Measuring response time of model for a particular input\n",
    "latency = pd.Series(pred_time_list).mean()/l"
   ]
  },
  {
   "cell_type": "code",
   "execution_count": 68,
   "id": "12b52388",
   "metadata": {},
   "outputs": [
    {
     "data": {
      "text/plain": [
       "4.29174748779515e-06"
      ]
     },
     "execution_count": 68,
     "metadata": {},
     "output_type": "execute_result"
    }
   ],
   "source": [
    "latency"
   ]
  },
  {
   "cell_type": "markdown",
   "id": "de1ed0f6",
   "metadata": {},
   "source": [
    "###### The response time of our model for a particular input of dataset came out to be 4.29174748779515e-06 seconds (s)."
   ]
  }
 ],
 "metadata": {
  "kernelspec": {
   "display_name": "Python 3 (ipykernel)",
   "language": "python",
   "name": "python3"
  },
  "language_info": {
   "codemirror_mode": {
    "name": "ipython",
    "version": 3
   },
   "file_extension": ".py",
   "mimetype": "text/x-python",
   "name": "python",
   "nbconvert_exporter": "python",
   "pygments_lexer": "ipython3",
   "version": "3.9.13"
  }
 },
 "nbformat": 4,
 "nbformat_minor": 5
}
